{
 "cells": [
  {
   "cell_type": "code",
   "execution_count": 1,
   "id": "tutorial-immunology",
   "metadata": {},
   "outputs": [],
   "source": [
    "# import requests\n",
    "# import pandas as pd\n",
    "# import matplotlib.pyplot as plt\n",
    "# import seaborn as sns\n",
    "# %matplotlib inline\n",
    "\n",
    "import time\n",
    "import json\n",
    "import requests\n",
    "import numpy as np\n",
    "import pandas as pd\n",
    "\n",
    "import requests\n",
    "from requests.auth import HTTPBasicAuth"
   ]
  },
  {
   "cell_type": "code",
   "execution_count": 2,
   "id": "varied-divorce",
   "metadata": {},
   "outputs": [],
   "source": [
    "credentials = json.loads(open('credentials.json').read())\n",
    "authentication = HTTPBasicAuth(credentials['username'], credentials['password'])"
   ]
  },
  {
   "cell_type": "code",
   "execution_count": 3,
   "id": "tough-attachment",
   "metadata": {},
   "outputs": [
    {
     "data": {
      "text/plain": [
       "<Response [403]>"
      ]
     },
     "execution_count": 3,
     "metadata": {},
     "output_type": "execute_result"
    }
   ],
   "source": [
    "data = requests.get('https://api.github.com/users/' + credentials['username'], auth = authentication)\n",
    "#data = data.json()\n",
    "data"
   ]
  },
  {
   "cell_type": "code",
   "execution_count": 4,
   "id": "offshore-watts",
   "metadata": {},
   "outputs": [
    {
     "ename": "TypeError",
     "evalue": "'Response' object is not subscriptable",
     "output_type": "error",
     "traceback": [
      "\u001b[0;31m---------------------------------------------------------------------------\u001b[0m",
      "\u001b[0;31mTypeError\u001b[0m                                 Traceback (most recent call last)",
      "\u001b[0;32m<ipython-input-4-bf305483414b>\u001b[0m in \u001b[0;36m<module>\u001b[0;34m\u001b[0m\n\u001b[0;32m----> 1\u001b[0;31m \u001b[0mprint\u001b[0m\u001b[0;34m(\u001b[0m\u001b[0;34m\"Name: {}\"\u001b[0m\u001b[0;34m.\u001b[0m\u001b[0mformat\u001b[0m\u001b[0;34m(\u001b[0m\u001b[0mdata\u001b[0m\u001b[0;34m[\u001b[0m\u001b[0;34m'name'\u001b[0m\u001b[0;34m]\u001b[0m\u001b[0;34m)\u001b[0m\u001b[0;34m)\u001b[0m\u001b[0;34m\u001b[0m\u001b[0;34m\u001b[0m\u001b[0m\n\u001b[0m\u001b[1;32m      2\u001b[0m \u001b[0mprint\u001b[0m\u001b[0;34m(\u001b[0m\u001b[0;34m\"Email: {}\"\u001b[0m\u001b[0;34m.\u001b[0m\u001b[0mformat\u001b[0m\u001b[0;34m(\u001b[0m\u001b[0mdata\u001b[0m\u001b[0;34m[\u001b[0m\u001b[0;34m'email'\u001b[0m\u001b[0;34m]\u001b[0m\u001b[0;34m)\u001b[0m\u001b[0;34m)\u001b[0m\u001b[0;34m\u001b[0m\u001b[0;34m\u001b[0m\u001b[0m\n\u001b[1;32m      3\u001b[0m \u001b[0mprint\u001b[0m\u001b[0;34m(\u001b[0m\u001b[0;34m\"Location: {}\"\u001b[0m\u001b[0;34m.\u001b[0m\u001b[0mformat\u001b[0m\u001b[0;34m(\u001b[0m\u001b[0mdata\u001b[0m\u001b[0;34m[\u001b[0m\u001b[0;34m'location'\u001b[0m\u001b[0;34m]\u001b[0m\u001b[0;34m)\u001b[0m\u001b[0;34m)\u001b[0m\u001b[0;34m\u001b[0m\u001b[0;34m\u001b[0m\u001b[0m\n\u001b[1;32m      4\u001b[0m \u001b[0mprint\u001b[0m\u001b[0;34m(\u001b[0m\u001b[0;34m\"Public repos: {}\"\u001b[0m\u001b[0;34m.\u001b[0m\u001b[0mformat\u001b[0m\u001b[0;34m(\u001b[0m\u001b[0mdata\u001b[0m\u001b[0;34m[\u001b[0m\u001b[0;34m'public_repos'\u001b[0m\u001b[0;34m]\u001b[0m\u001b[0;34m)\u001b[0m\u001b[0;34m)\u001b[0m\u001b[0;34m\u001b[0m\u001b[0;34m\u001b[0m\u001b[0m\n\u001b[1;32m      5\u001b[0m \u001b[0mprint\u001b[0m\u001b[0;34m(\u001b[0m\u001b[0;34m\"Public gists: {}\"\u001b[0m\u001b[0;34m.\u001b[0m\u001b[0mformat\u001b[0m\u001b[0;34m(\u001b[0m\u001b[0mdata\u001b[0m\u001b[0;34m[\u001b[0m\u001b[0;34m'public_gists'\u001b[0m\u001b[0;34m]\u001b[0m\u001b[0;34m)\u001b[0m\u001b[0;34m)\u001b[0m\u001b[0;34m\u001b[0m\u001b[0;34m\u001b[0m\u001b[0m\n",
      "\u001b[0;31mTypeError\u001b[0m: 'Response' object is not subscriptable"
     ]
    }
   ],
   "source": [
    "print(\"Name: {}\".format(data['name']))\n",
    "print(\"Email: {}\".format(data['email']))\n",
    "print(\"Location: {}\".format(data['location']))\n",
    "print(\"Public repos: {}\".format(data['public_repos']))\n",
    "print(\"Public gists: {}\".format(data['public_gists']))\n",
    "print(\"About: {}\".format(data['bio']))"
   ]
  },
  {
   "cell_type": "code",
   "execution_count": null,
   "id": "electric-handy",
   "metadata": {},
   "outputs": [],
   "source": [
    "#iterate over alll repositories\n",
    "url = data['repos_url']\n",
    "page_no = 1\n",
    "repos_data = []\n",
    "\n",
    "while (True):\n",
    "    response = requests.get(url, auth = authentication)\n",
    "    response = response.json()\n",
    "    repos_data = repos_data + response\n",
    "    repos_fetched = len(response)\n",
    "    print(\"Total repositories fetched: {}\".format(repos_fetched))\n",
    "    if (repos_fetched == 30):\n",
    "        page_no = page_no + 1\n",
    "        url = data['repos_url'] + '?page=' + str(page_no)\n",
    "    else:\n",
    "        break"
   ]
  },
  {
   "cell_type": "code",
   "execution_count": null,
   "id": "hundred-thomas",
   "metadata": {},
   "outputs": [],
   "source": [
    "repos_information = []\n",
    "for i, repo in enumerate(repos_data):\n",
    "    data = []\n",
    "    data.append(repo['id'])\n",
    "    data.append(repo['name'])\n",
    "    data.append(repo['description'])\n",
    "    data.append(repo['created_at'])\n",
    "    data.append(repo['updated_at'])\n",
    "    data.append(repo['owner']['login'])\n",
    "    data.append(repo['license']['name'] if repo['license'] != None else None)\n",
    "    data.append(repo['has_wiki'])\n",
    "    data.append(repo['forks_count'])\n",
    "    data.append(repo['open_issues_count'])\n",
    "    data.append(repo['stargazers_count'])\n",
    "    data.append(repo['watchers_count'])\n",
    "    data.append(repo['url'])\n",
    "    data.append(repo['commits_url'].split(\"{\")[0])\n",
    "    data.append(repo['url'] + '/languages')\n",
    "    repos_information.append(data)"
   ]
  },
  {
   "cell_type": "code",
   "execution_count": null,
   "id": "intense-voltage",
   "metadata": {},
   "outputs": [],
   "source": [
    "repos_df = pd.DataFrame(repos_information, columns = ['Id', 'Name', 'Description', 'Created on', 'Updated on', \n",
    "                                                      'Owner', 'License', 'Includes wiki', 'Forks count', \n",
    "                                                      'Issues count', 'Stars count', 'Watchers count',\n",
    "                                                      'Repo URL', 'Commits URL', 'Languages URL'])\n"
   ]
  },
  {
   "cell_type": "code",
   "execution_count": null,
   "id": "crude-throw",
   "metadata": {},
   "outputs": [],
   "source": [
    "for i in range(repos_df.shape[0]):\n",
    "    response = requests.get(repos_df.loc[i, 'Languages URL'], auth = authentication)\n",
    "    response = response.json()\n",
    "    print(i, response)\n",
    "    if response != {}:\n",
    "        languages = []\n",
    "        for key, value in response.items():\n",
    "            languages.append(key)\n",
    "        languages = ', '.join(languages)\n",
    "        repos_df.loc[i, 'Languages'] = languages\n",
    "    else:\n",
    "        repos_df.loc[i, 'Languages'] = \"\""
   ]
  },
  {
   "cell_type": "markdown",
   "id": "searching-minimum",
   "metadata": {},
   "source": [
    "### commits"
   ]
  },
  {
   "cell_type": "code",
   "execution_count": null,
   "id": "seeing-civilization",
   "metadata": {},
   "outputs": [],
   "source": [
    "commits_information = []\n",
    "for i in range(repos_df.shape[0]):\n",
    "    url = repos_df.loc[i, 'Commits URL']\n",
    "    page_no = 1\n",
    "    while (True):\n",
    "        response = requests.get(url, auth = authentication)\n",
    "        print(response)\n",
    "        response = response.json()\n",
    "        print(\"URL: {}, commits: {}\".format(url, len(response)))\n",
    "        for commit in response:\n",
    "            commit_data = []\n",
    "            commit_data.append(repos_df.loc[i, 'Id'])\n",
    "            commit_data.append(commit['sha'])\n",
    "            commit_data.append(commit['commit']['committer']['date'])\n",
    "            commit_data.append(commit['commit']['message'])\n",
    "            commits_information.append(commit_data)\n",
    "        if (len(response) == 30):\n",
    "            page_no = page_no + 1\n",
    "            url = repos_df.loc[i, 'Commits URL'] + '?page=' + str(page_no)\n",
    "        else:\n",
    "            break\n",
    "            \n",
    "commits_df = pd.DataFrame(commits_information, columns = ['Repo Id', 'Commit Id', 'Date', 'Message'])\n",
    "#commits_df.to_csv('commits_info.csv', index = False)"
   ]
  },
  {
   "cell_type": "code",
   "execution_count": null,
   "id": "baking-noise",
   "metadata": {},
   "outputs": [],
   "source": []
  },
  {
   "cell_type": "code",
   "execution_count": null,
   "id": "medium-growth",
   "metadata": {},
   "outputs": [],
   "source": []
  }
 ],
 "metadata": {
  "kernelspec": {
   "display_name": "Python 3",
   "language": "python",
   "name": "python3"
  },
  "language_info": {
   "codemirror_mode": {
    "name": "ipython",
    "version": 3
   },
   "file_extension": ".py",
   "mimetype": "text/x-python",
   "name": "python",
   "nbconvert_exporter": "python",
   "pygments_lexer": "ipython3",
   "version": "3.8.6"
  }
 },
 "nbformat": 4,
 "nbformat_minor": 5
}

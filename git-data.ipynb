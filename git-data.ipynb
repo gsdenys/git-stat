{
 "cells": [
  {
   "cell_type": "code",
   "execution_count": 1,
   "metadata": {},
   "outputs": [],
   "source": [
    "# import requests\n",
    "# import pandas as pd\n",
    "# import matplotlib.pyplot as plt\n",
    "# import seaborn as sns\n",
    "# %matplotlib inline\n",
    "\n",
    "import time\n",
    "import json\n",
    "import requests\n",
    "import numpy as np\n",
    "import pandas as pd\n",
    "\n",
    "import requests\n",
    "from requests.auth import HTTPBasicAuth\n",
    "\n",
    "\n",
    "import pandas as pd\n",
    "import matplotlib.pyplot as plt\n",
    "import seaborn as sns\n",
    "%matplotlib inline"
   ]
  },
  {
   "cell_type": "code",
   "execution_count": 2,
   "metadata": {},
   "outputs": [],
   "source": [
    "#credentials = json.loads(open('credentials.json').read())\n",
    "#authentication = HTTPBasicAuth(credentials['username'], credentials['password'])\n",
    "\n",
    "token = \"your-token\"\n",
    "\n",
    "headers = requests.utils.default_headers()\n",
    "headers.update(\n",
    "    {\n",
    "        'User-Agent': 'PosterisIT',\n",
    "        'Authorization': 'token ' + token\n",
    "    }\n",
    ")"
   ]
  },
  {
   "cell_type": "code",
   "execution_count": 3,
   "metadata": {},
   "outputs": [
    {
     "data": {
      "text/plain": [
       "{'avatar_url': 'https://avatars.githubusercontent.com/u/6287732?v=4',\n",
       " 'bio': None,\n",
       " 'blog': '',\n",
       " 'company': 'Spintec',\n",
       " 'created_at': '2013-12-30T16:14:26Z',\n",
       " 'email': None,\n",
       " 'events_url': 'https://api.github.com/users/Oraci/events{/privacy}',\n",
       " 'followers': 8,\n",
       " 'followers_url': 'https://api.github.com/users/Oraci/followers',\n",
       " 'following': 8,\n",
       " 'following_url': 'https://api.github.com/users/Oraci/following{/other_user}',\n",
       " 'gists_url': 'https://api.github.com/users/Oraci/gists{/gist_id}',\n",
       " 'gravatar_id': '',\n",
       " 'hireable': None,\n",
       " 'html_url': 'https://github.com/Oraci',\n",
       " 'id': 6287732,\n",
       " 'location': 'Blumenau',\n",
       " 'login': 'Oraci',\n",
       " 'name': 'Oraci Izidoro Corrêa',\n",
       " 'node_id': 'MDQ6VXNlcjYyODc3MzI=',\n",
       " 'organizations_url': 'https://api.github.com/users/Oraci/orgs',\n",
       " 'public_gists': 0,\n",
       " 'public_repos': 13,\n",
       " 'received_events_url': 'https://api.github.com/users/Oraci/received_events',\n",
       " 'repos_url': 'https://api.github.com/users/Oraci/repos',\n",
       " 'site_admin': False,\n",
       " 'starred_url': 'https://api.github.com/users/Oraci/starred{/owner}{/repo}',\n",
       " 'subscriptions_url': 'https://api.github.com/users/Oraci/subscriptions',\n",
       " 'twitter_username': None,\n",
       " 'type': 'User',\n",
       " 'updated_at': '2021-01-26T15:57:19Z',\n",
       " 'url': 'https://api.github.com/users/Oraci'}"
      ]
     },
     "execution_count": 3,
     "metadata": {},
     "output_type": "execute_result"
    }
   ],
   "source": [
    "data = requests.get('https://api.github.com/users/Oraci', headers=headers)\n",
    "data = data.json()\n",
    "data"
   ]
  },
  {
   "cell_type": "code",
   "execution_count": 4,
   "metadata": {},
   "outputs": [
    {
     "name": "stdout",
     "output_type": "stream",
     "text": [
      "Name: Oraci Izidoro Corrêa\n",
      "Email: None\n",
      "Location: Blumenau\n",
      "Public repos: 13\n",
      "Public gists: 0\n",
      "About: None\n"
     ]
    }
   ],
   "source": [
    "print(\"Name: {}\".format(data['name']))\n",
    "print(\"Email: {}\".format(data['email']))\n",
    "print(\"Location: {}\".format(data['location']))\n",
    "print(\"Public repos: {}\".format(data['public_repos']))\n",
    "print(\"Public gists: {}\".format(data['public_gists']))\n",
    "print(\"About: {}\".format(data['bio']))"
   ]
  },
  {
   "cell_type": "code",
   "execution_count": 5,
   "metadata": {},
   "outputs": [
    {
     "name": "stdout",
     "output_type": "stream",
     "text": [
      "Total repositories fetched: 13\n"
     ]
    }
   ],
   "source": [
    "#iterate over alll repositories\n",
    "url = data['repos_url']\n",
    "page_no = 1\n",
    "repos_data = []\n",
    "\n",
    "while (True):\n",
    "    response = requests.get(url, headers=headers)\n",
    "    response = response.json()\n",
    "    repos_data = repos_data + response\n",
    "    repos_fetched = len(response)\n",
    "    print(\"Total repositories fetched: {}\".format(repos_fetched))\n",
    "    if (repos_fetched == 30):\n",
    "        page_no = page_no + 1\n",
    "        url = data['repos_url'] + '?page=' + str(page_no)\n",
    "    else:\n",
    "        break"
   ]
  },
  {
   "cell_type": "code",
   "execution_count": 6,
   "metadata": {},
   "outputs": [],
   "source": [
    "repos_information = []\n",
    "for i, repo in enumerate(repos_data):\n",
    "    data = []\n",
    "    data.append(repo['id'])\n",
    "    data.append(repo['name'])\n",
    "    data.append(repo['description'])\n",
    "    data.append(repo['created_at'])\n",
    "    data.append(repo['updated_at'])\n",
    "    data.append(repo['owner']['login'])\n",
    "    data.append(repo['license']['name'] if repo['license'] != None else None)\n",
    "    data.append(repo['has_wiki'])\n",
    "    data.append(repo['forks_count'])\n",
    "    data.append(repo['open_issues_count'])\n",
    "    data.append(repo['stargazers_count'])\n",
    "    data.append(repo['watchers_count'])\n",
    "    data.append(repo['url'])\n",
    "    data.append(repo['commits_url'].split(\"{\")[0])\n",
    "    data.append(repo['url'] + '/languages')\n",
    "    repos_information.append(data)"
   ]
  },
  {
   "cell_type": "code",
   "execution_count": 7,
   "metadata": {},
   "outputs": [],
   "source": [
    "repos_df = pd.DataFrame(repos_information, columns = ['Id', 'Name', 'Description', 'Created on', 'Updated on', \n",
    "                                                      'Owner', 'License', 'Includes wiki', 'Forks count', \n",
    "                                                      'Issues count', 'Stars count', 'Watchers count',\n",
    "                                                      'Repo URL', 'Commits URL', 'Languages URL'])\n"
   ]
  },
  {
   "cell_type": "code",
   "execution_count": 8,
   "metadata": {},
   "outputs": [],
   "source": [
    "for i in range(repos_df.shape[0]):\n",
    "#     time.sleep(2)\n",
    "    response = requests.get(repos_df.loc[i, 'Languages URL'], headers=headers)\n",
    "    response = response.json()\n",
    "#     print(i, response)\n",
    "    if response != {}:\n",
    "        languages = []\n",
    "        for key, value in response.items():\n",
    "            languages.append(key)\n",
    "        languages = ', '.join(languages)\n",
    "        repos_df.loc[i, 'Languages'] = languages\n",
    "    else:\n",
    "        repos_df.loc[i, 'Languages'] = \"\"\n",
    "        \n",
    "# repos_df.to_csv('repos_info.csv', index = False)"
   ]
  },
  {
   "cell_type": "code",
   "execution_count": 9,
   "metadata": {},
   "outputs": [
    {
     "data": {
      "text/html": [
       "<div>\n",
       "<style scoped>\n",
       "    .dataframe tbody tr th:only-of-type {\n",
       "        vertical-align: middle;\n",
       "    }\n",
       "\n",
       "    .dataframe tbody tr th {\n",
       "        vertical-align: top;\n",
       "    }\n",
       "\n",
       "    .dataframe thead th {\n",
       "        text-align: right;\n",
       "    }\n",
       "</style>\n",
       "<table border=\"1\" class=\"dataframe\">\n",
       "  <thead>\n",
       "    <tr style=\"text-align: right;\">\n",
       "      <th></th>\n",
       "      <th>Id</th>\n",
       "      <th>Name</th>\n",
       "      <th>Description</th>\n",
       "      <th>Created on</th>\n",
       "      <th>Updated on</th>\n",
       "      <th>Owner</th>\n",
       "      <th>License</th>\n",
       "      <th>Includes wiki</th>\n",
       "      <th>Forks count</th>\n",
       "      <th>Issues count</th>\n",
       "      <th>Stars count</th>\n",
       "      <th>Watchers count</th>\n",
       "      <th>Repo URL</th>\n",
       "      <th>Commits URL</th>\n",
       "      <th>Languages URL</th>\n",
       "      <th>Languages</th>\n",
       "    </tr>\n",
       "  </thead>\n",
       "  <tbody>\n",
       "    <tr>\n",
       "      <th>0</th>\n",
       "      <td>213266863</td>\n",
       "      <td>aircnc</td>\n",
       "      <td>Rocketseat (OmniStack Week 9) - AirCNC (ReactJS)</td>\n",
       "      <td>2019-10-07T00:40:35Z</td>\n",
       "      <td>2019-10-31T01:02:48Z</td>\n",
       "      <td>Oraci</td>\n",
       "      <td>None</td>\n",
       "      <td>True</td>\n",
       "      <td>0</td>\n",
       "      <td>9</td>\n",
       "      <td>0</td>\n",
       "      <td>0</td>\n",
       "      <td>https://api.github.com/repos/Oraci/aircnc</td>\n",
       "      <td>https://api.github.com/repos/Oraci/aircnc/commits</td>\n",
       "      <td>https://api.github.com/repos/Oraci/aircnc/lang...</td>\n",
       "      <td>JavaScript, CSS, HTML</td>\n",
       "    </tr>\n",
       "    <tr>\n",
       "      <th>1</th>\n",
       "      <td>283563839</td>\n",
       "      <td>amazing-chat</td>\n",
       "      <td>None</td>\n",
       "      <td>2020-07-29T17:40:41Z</td>\n",
       "      <td>2020-08-03T12:01:45Z</td>\n",
       "      <td>Oraci</td>\n",
       "      <td>None</td>\n",
       "      <td>True</td>\n",
       "      <td>0</td>\n",
       "      <td>0</td>\n",
       "      <td>0</td>\n",
       "      <td>0</td>\n",
       "      <td>https://api.github.com/repos/Oraci/amazing-chat</td>\n",
       "      <td>https://api.github.com/repos/Oraci/amazing-cha...</td>\n",
       "      <td>https://api.github.com/repos/Oraci/amazing-cha...</td>\n",
       "      <td>JavaScript, HTML</td>\n",
       "    </tr>\n",
       "    <tr>\n",
       "      <th>2</th>\n",
       "      <td>149213673</td>\n",
       "      <td>flashcards</td>\n",
       "      <td>Nanodegree Udacity - Flashcards (React Native)</td>\n",
       "      <td>2018-09-18T01:56:41Z</td>\n",
       "      <td>2019-10-31T00:59:49Z</td>\n",
       "      <td>Oraci</td>\n",
       "      <td>None</td>\n",
       "      <td>True</td>\n",
       "      <td>0</td>\n",
       "      <td>8</td>\n",
       "      <td>0</td>\n",
       "      <td>0</td>\n",
       "      <td>https://api.github.com/repos/Oraci/flashcards</td>\n",
       "      <td>https://api.github.com/repos/Oraci/flashcards/...</td>\n",
       "      <td>https://api.github.com/repos/Oraci/flashcards/...</td>\n",
       "      <td>JavaScript</td>\n",
       "    </tr>\n",
       "    <tr>\n",
       "      <th>3</th>\n",
       "      <td>226766100</td>\n",
       "      <td>forecast</td>\n",
       "      <td>None</td>\n",
       "      <td>2019-12-09T02:17:32Z</td>\n",
       "      <td>2019-12-10T00:45:52Z</td>\n",
       "      <td>Oraci</td>\n",
       "      <td>None</td>\n",
       "      <td>True</td>\n",
       "      <td>0</td>\n",
       "      <td>0</td>\n",
       "      <td>0</td>\n",
       "      <td>0</td>\n",
       "      <td>https://api.github.com/repos/Oraci/forecast</td>\n",
       "      <td>https://api.github.com/repos/Oraci/forecast/co...</td>\n",
       "      <td>https://api.github.com/repos/Oraci/forecast/la...</td>\n",
       "      <td>JavaScript, HTML, CSS</td>\n",
       "    </tr>\n",
       "    <tr>\n",
       "      <th>4</th>\n",
       "      <td>299300924</td>\n",
       "      <td>gaivota-test</td>\n",
       "      <td>None</td>\n",
       "      <td>2020-09-28T12:25:37Z</td>\n",
       "      <td>2020-09-28T12:29:07Z</td>\n",
       "      <td>Oraci</td>\n",
       "      <td>None</td>\n",
       "      <td>True</td>\n",
       "      <td>0</td>\n",
       "      <td>0</td>\n",
       "      <td>0</td>\n",
       "      <td>0</td>\n",
       "      <td>https://api.github.com/repos/Oraci/gaivota-test</td>\n",
       "      <td>https://api.github.com/repos/Oraci/gaivota-tes...</td>\n",
       "      <td>https://api.github.com/repos/Oraci/gaivota-tes...</td>\n",
       "      <td>JavaScript, HTML, Dockerfile, CSS</td>\n",
       "    </tr>\n",
       "    <tr>\n",
       "      <th>5</th>\n",
       "      <td>295580064</td>\n",
       "      <td>gymondo-challenge-oraci</td>\n",
       "      <td>None</td>\n",
       "      <td>2020-09-15T01:22:22Z</td>\n",
       "      <td>2020-09-24T01:44:09Z</td>\n",
       "      <td>Oraci</td>\n",
       "      <td>None</td>\n",
       "      <td>True</td>\n",
       "      <td>0</td>\n",
       "      <td>0</td>\n",
       "      <td>0</td>\n",
       "      <td>0</td>\n",
       "      <td>https://api.github.com/repos/Oraci/gymondo-cha...</td>\n",
       "      <td>https://api.github.com/repos/Oraci/gymondo-cha...</td>\n",
       "      <td>https://api.github.com/repos/Oraci/gymondo-cha...</td>\n",
       "      <td>TypeScript, JavaScript, HTML</td>\n",
       "    </tr>\n",
       "    <tr>\n",
       "      <th>6</th>\n",
       "      <td>319799300</td>\n",
       "      <td>max-challenge</td>\n",
       "      <td>None</td>\n",
       "      <td>2020-12-09T00:43:17Z</td>\n",
       "      <td>2021-01-08T11:14:10Z</td>\n",
       "      <td>Oraci</td>\n",
       "      <td>None</td>\n",
       "      <td>True</td>\n",
       "      <td>0</td>\n",
       "      <td>0</td>\n",
       "      <td>0</td>\n",
       "      <td>0</td>\n",
       "      <td>https://api.github.com/repos/Oraci/max-challenge</td>\n",
       "      <td>https://api.github.com/repos/Oraci/max-challen...</td>\n",
       "      <td>https://api.github.com/repos/Oraci/max-challen...</td>\n",
       "      <td>JavaScript, HTML, Shell</td>\n",
       "    </tr>\n",
       "    <tr>\n",
       "      <th>7</th>\n",
       "      <td>312437538</td>\n",
       "      <td>movie_theater</td>\n",
       "      <td>None</td>\n",
       "      <td>2020-11-13T01:12:39Z</td>\n",
       "      <td>2020-11-16T02:02:52Z</td>\n",
       "      <td>Oraci</td>\n",
       "      <td>None</td>\n",
       "      <td>True</td>\n",
       "      <td>0</td>\n",
       "      <td>0</td>\n",
       "      <td>0</td>\n",
       "      <td>0</td>\n",
       "      <td>https://api.github.com/repos/Oraci/movie_theater</td>\n",
       "      <td>https://api.github.com/repos/Oraci/movie_theat...</td>\n",
       "      <td>https://api.github.com/repos/Oraci/movie_theat...</td>\n",
       "      <td>JavaScript, HTML, Shell</td>\n",
       "    </tr>\n",
       "    <tr>\n",
       "      <th>8</th>\n",
       "      <td>136400233</td>\n",
       "      <td>myreads</td>\n",
       "      <td>Nanodegree Udacity - MyReads (ReactJS)</td>\n",
       "      <td>2018-06-07T00:25:34Z</td>\n",
       "      <td>2019-10-31T01:01:35Z</td>\n",
       "      <td>Oraci</td>\n",
       "      <td>None</td>\n",
       "      <td>True</td>\n",
       "      <td>0</td>\n",
       "      <td>0</td>\n",
       "      <td>0</td>\n",
       "      <td>0</td>\n",
       "      <td>https://api.github.com/repos/Oraci/myreads</td>\n",
       "      <td>https://api.github.com/repos/Oraci/myreads/com...</td>\n",
       "      <td>https://api.github.com/repos/Oraci/myreads/lan...</td>\n",
       "      <td>JavaScript, HTML, CSS</td>\n",
       "    </tr>\n",
       "    <tr>\n",
       "      <th>9</th>\n",
       "      <td>292277827</td>\n",
       "      <td>oraci-frontend-challenge</td>\n",
       "      <td>None</td>\n",
       "      <td>2020-09-02T12:33:19Z</td>\n",
       "      <td>2020-09-02T12:33:44Z</td>\n",
       "      <td>Oraci</td>\n",
       "      <td>None</td>\n",
       "      <td>True</td>\n",
       "      <td>0</td>\n",
       "      <td>0</td>\n",
       "      <td>0</td>\n",
       "      <td>0</td>\n",
       "      <td>https://api.github.com/repos/Oraci/oraci-front...</td>\n",
       "      <td>https://api.github.com/repos/Oraci/oraci-front...</td>\n",
       "      <td>https://api.github.com/repos/Oraci/oraci-front...</td>\n",
       "      <td></td>\n",
       "    </tr>\n",
       "    <tr>\n",
       "      <th>10</th>\n",
       "      <td>137966001</td>\n",
       "      <td>readable</td>\n",
       "      <td>Nanodegree Udacity - Readable (ReactJS)</td>\n",
       "      <td>2018-06-20T01:47:55Z</td>\n",
       "      <td>2019-10-31T01:01:06Z</td>\n",
       "      <td>Oraci</td>\n",
       "      <td>None</td>\n",
       "      <td>True</td>\n",
       "      <td>0</td>\n",
       "      <td>0</td>\n",
       "      <td>0</td>\n",
       "      <td>0</td>\n",
       "      <td>https://api.github.com/repos/Oraci/readable</td>\n",
       "      <td>https://api.github.com/repos/Oraci/readable/co...</td>\n",
       "      <td>https://api.github.com/repos/Oraci/readable/la...</td>\n",
       "      <td>JavaScript, HTML, CSS</td>\n",
       "    </tr>\n",
       "    <tr>\n",
       "      <th>11</th>\n",
       "      <td>293409664</td>\n",
       "      <td>ts-coding-challenge-oraci</td>\n",
       "      <td>None</td>\n",
       "      <td>2020-09-07T03:09:43Z</td>\n",
       "      <td>2020-09-07T17:25:09Z</td>\n",
       "      <td>Oraci</td>\n",
       "      <td>None</td>\n",
       "      <td>True</td>\n",
       "      <td>0</td>\n",
       "      <td>0</td>\n",
       "      <td>0</td>\n",
       "      <td>0</td>\n",
       "      <td>https://api.github.com/repos/Oraci/ts-coding-c...</td>\n",
       "      <td>https://api.github.com/repos/Oraci/ts-coding-c...</td>\n",
       "      <td>https://api.github.com/repos/Oraci/ts-coding-c...</td>\n",
       "      <td>TypeScript, JavaScript</td>\n",
       "    </tr>\n",
       "    <tr>\n",
       "      <th>12</th>\n",
       "      <td>246946482</td>\n",
       "      <td>weather-forecast</td>\n",
       "      <td>None</td>\n",
       "      <td>2020-03-12T23:08:32Z</td>\n",
       "      <td>2020-07-20T23:19:25Z</td>\n",
       "      <td>Oraci</td>\n",
       "      <td>None</td>\n",
       "      <td>True</td>\n",
       "      <td>0</td>\n",
       "      <td>4</td>\n",
       "      <td>1</td>\n",
       "      <td>1</td>\n",
       "      <td>https://api.github.com/repos/Oraci/weather-for...</td>\n",
       "      <td>https://api.github.com/repos/Oraci/weather-for...</td>\n",
       "      <td>https://api.github.com/repos/Oraci/weather-for...</td>\n",
       "      <td>JavaScript, HTML</td>\n",
       "    </tr>\n",
       "  </tbody>\n",
       "</table>\n",
       "</div>"
      ],
      "text/plain": [
       "           Id                       Name  \\\n",
       "0   213266863                     aircnc   \n",
       "1   283563839               amazing-chat   \n",
       "2   149213673                 flashcards   \n",
       "3   226766100                   forecast   \n",
       "4   299300924               gaivota-test   \n",
       "5   295580064    gymondo-challenge-oraci   \n",
       "6   319799300              max-challenge   \n",
       "7   312437538              movie_theater   \n",
       "8   136400233                    myreads   \n",
       "9   292277827   oraci-frontend-challenge   \n",
       "10  137966001                   readable   \n",
       "11  293409664  ts-coding-challenge-oraci   \n",
       "12  246946482           weather-forecast   \n",
       "\n",
       "                                         Description            Created on  \\\n",
       "0   Rocketseat (OmniStack Week 9) - AirCNC (ReactJS)  2019-10-07T00:40:35Z   \n",
       "1                                               None  2020-07-29T17:40:41Z   \n",
       "2     Nanodegree Udacity - Flashcards (React Native)  2018-09-18T01:56:41Z   \n",
       "3                                               None  2019-12-09T02:17:32Z   \n",
       "4                                               None  2020-09-28T12:25:37Z   \n",
       "5                                               None  2020-09-15T01:22:22Z   \n",
       "6                                               None  2020-12-09T00:43:17Z   \n",
       "7                                               None  2020-11-13T01:12:39Z   \n",
       "8             Nanodegree Udacity - MyReads (ReactJS)  2018-06-07T00:25:34Z   \n",
       "9                                               None  2020-09-02T12:33:19Z   \n",
       "10           Nanodegree Udacity - Readable (ReactJS)  2018-06-20T01:47:55Z   \n",
       "11                                              None  2020-09-07T03:09:43Z   \n",
       "12                                              None  2020-03-12T23:08:32Z   \n",
       "\n",
       "              Updated on  Owner License  Includes wiki  Forks count  \\\n",
       "0   2019-10-31T01:02:48Z  Oraci    None           True            0   \n",
       "1   2020-08-03T12:01:45Z  Oraci    None           True            0   \n",
       "2   2019-10-31T00:59:49Z  Oraci    None           True            0   \n",
       "3   2019-12-10T00:45:52Z  Oraci    None           True            0   \n",
       "4   2020-09-28T12:29:07Z  Oraci    None           True            0   \n",
       "5   2020-09-24T01:44:09Z  Oraci    None           True            0   \n",
       "6   2021-01-08T11:14:10Z  Oraci    None           True            0   \n",
       "7   2020-11-16T02:02:52Z  Oraci    None           True            0   \n",
       "8   2019-10-31T01:01:35Z  Oraci    None           True            0   \n",
       "9   2020-09-02T12:33:44Z  Oraci    None           True            0   \n",
       "10  2019-10-31T01:01:06Z  Oraci    None           True            0   \n",
       "11  2020-09-07T17:25:09Z  Oraci    None           True            0   \n",
       "12  2020-07-20T23:19:25Z  Oraci    None           True            0   \n",
       "\n",
       "    Issues count  Stars count  Watchers count  \\\n",
       "0              9            0               0   \n",
       "1              0            0               0   \n",
       "2              8            0               0   \n",
       "3              0            0               0   \n",
       "4              0            0               0   \n",
       "5              0            0               0   \n",
       "6              0            0               0   \n",
       "7              0            0               0   \n",
       "8              0            0               0   \n",
       "9              0            0               0   \n",
       "10             0            0               0   \n",
       "11             0            0               0   \n",
       "12             4            1               1   \n",
       "\n",
       "                                             Repo URL  \\\n",
       "0           https://api.github.com/repos/Oraci/aircnc   \n",
       "1     https://api.github.com/repos/Oraci/amazing-chat   \n",
       "2       https://api.github.com/repos/Oraci/flashcards   \n",
       "3         https://api.github.com/repos/Oraci/forecast   \n",
       "4     https://api.github.com/repos/Oraci/gaivota-test   \n",
       "5   https://api.github.com/repos/Oraci/gymondo-cha...   \n",
       "6    https://api.github.com/repos/Oraci/max-challenge   \n",
       "7    https://api.github.com/repos/Oraci/movie_theater   \n",
       "8          https://api.github.com/repos/Oraci/myreads   \n",
       "9   https://api.github.com/repos/Oraci/oraci-front...   \n",
       "10        https://api.github.com/repos/Oraci/readable   \n",
       "11  https://api.github.com/repos/Oraci/ts-coding-c...   \n",
       "12  https://api.github.com/repos/Oraci/weather-for...   \n",
       "\n",
       "                                          Commits URL  \\\n",
       "0   https://api.github.com/repos/Oraci/aircnc/commits   \n",
       "1   https://api.github.com/repos/Oraci/amazing-cha...   \n",
       "2   https://api.github.com/repos/Oraci/flashcards/...   \n",
       "3   https://api.github.com/repos/Oraci/forecast/co...   \n",
       "4   https://api.github.com/repos/Oraci/gaivota-tes...   \n",
       "5   https://api.github.com/repos/Oraci/gymondo-cha...   \n",
       "6   https://api.github.com/repos/Oraci/max-challen...   \n",
       "7   https://api.github.com/repos/Oraci/movie_theat...   \n",
       "8   https://api.github.com/repos/Oraci/myreads/com...   \n",
       "9   https://api.github.com/repos/Oraci/oraci-front...   \n",
       "10  https://api.github.com/repos/Oraci/readable/co...   \n",
       "11  https://api.github.com/repos/Oraci/ts-coding-c...   \n",
       "12  https://api.github.com/repos/Oraci/weather-for...   \n",
       "\n",
       "                                        Languages URL  \\\n",
       "0   https://api.github.com/repos/Oraci/aircnc/lang...   \n",
       "1   https://api.github.com/repos/Oraci/amazing-cha...   \n",
       "2   https://api.github.com/repos/Oraci/flashcards/...   \n",
       "3   https://api.github.com/repos/Oraci/forecast/la...   \n",
       "4   https://api.github.com/repos/Oraci/gaivota-tes...   \n",
       "5   https://api.github.com/repos/Oraci/gymondo-cha...   \n",
       "6   https://api.github.com/repos/Oraci/max-challen...   \n",
       "7   https://api.github.com/repos/Oraci/movie_theat...   \n",
       "8   https://api.github.com/repos/Oraci/myreads/lan...   \n",
       "9   https://api.github.com/repos/Oraci/oraci-front...   \n",
       "10  https://api.github.com/repos/Oraci/readable/la...   \n",
       "11  https://api.github.com/repos/Oraci/ts-coding-c...   \n",
       "12  https://api.github.com/repos/Oraci/weather-for...   \n",
       "\n",
       "                            Languages  \n",
       "0               JavaScript, CSS, HTML  \n",
       "1                    JavaScript, HTML  \n",
       "2                          JavaScript  \n",
       "3               JavaScript, HTML, CSS  \n",
       "4   JavaScript, HTML, Dockerfile, CSS  \n",
       "5        TypeScript, JavaScript, HTML  \n",
       "6             JavaScript, HTML, Shell  \n",
       "7             JavaScript, HTML, Shell  \n",
       "8               JavaScript, HTML, CSS  \n",
       "9                                      \n",
       "10              JavaScript, HTML, CSS  \n",
       "11             TypeScript, JavaScript  \n",
       "12                   JavaScript, HTML  "
      ]
     },
     "execution_count": 9,
     "metadata": {},
     "output_type": "execute_result"
    }
   ],
   "source": [
    "repos_df"
   ]
  },
  {
   "cell_type": "code",
   "execution_count": 10,
   "metadata": {},
   "outputs": [
    {
     "data": {
      "text/plain": [
       "13"
      ]
     },
     "execution_count": 10,
     "metadata": {},
     "output_type": "execute_result"
    }
   ],
   "source": [
    "repos_df.shape[0]"
   ]
  },
  {
   "cell_type": "markdown",
   "metadata": {},
   "source": [
    "### commits"
   ]
  },
  {
   "cell_type": "code",
   "execution_count": 11,
   "metadata": {},
   "outputs": [],
   "source": [
    "commits_information = []\n",
    "for i in range(repos_df.shape[0]):\n",
    "    url = repos_df.loc[i, 'Commits URL']\n",
    "    page_no = 1\n",
    "    while (True):\n",
    "        response = requests.get(url, headers=headers)\n",
    "        response = response.json()\n",
    "#         print(\"URL: {}, commits: {}\".format(url, len(response)))\n",
    "        for commit in response:\n",
    "            commit_data = []\n",
    "            commit_data.append(repos_df.loc[i, 'Id'])\n",
    "            commit_data.append(commit['sha'])\n",
    "            commit_data.append(commit['commit']['committer']['date'])\n",
    "            commit_data.append(commit['commit']['message'])\n",
    "            commits_information.append(commit_data)\n",
    "        if (len(response) == 30):\n",
    "            page_no = page_no + 1\n",
    "            url = repos_df.loc[i, 'Commits URL'] + '?page=' + str(page_no)\n",
    "        else:\n",
    "            break\n",
    "            \n",
    "commits_df = pd.DataFrame(commits_information, columns = ['Repo Id', 'Commit Id', 'Date', 'Message'])\n",
    "# commits_df.to_csv('commits_info.csv', index = False)"
   ]
  },
  {
   "cell_type": "markdown",
   "metadata": {},
   "source": [
    "## Analisys"
   ]
  },
  {
   "cell_type": "code",
   "execution_count": 12,
   "metadata": {},
   "outputs": [],
   "source": [
    "repos = repos_df\n",
    "commits = commits_df"
   ]
  },
  {
   "cell_type": "code",
   "execution_count": 13,
   "metadata": {},
   "outputs": [
    {
     "name": "stdout",
     "output_type": "stream",
     "text": [
      "Total repos till date: 13\n",
      "Total commits till date: 129\n"
     ]
    }
   ],
   "source": [
    "print(\"Total repos till date: {}\".format(repos.shape[0]))\n",
    "print(\"Total commits till date: {}\".format(commits.shape[0]))"
   ]
  },
  {
   "cell_type": "code",
   "execution_count": 14,
   "metadata": {},
   "outputs": [
    {
     "data": {
      "text/html": [
       "<div>\n",
       "<style scoped>\n",
       "    .dataframe tbody tr th:only-of-type {\n",
       "        vertical-align: middle;\n",
       "    }\n",
       "\n",
       "    .dataframe tbody tr th {\n",
       "        vertical-align: top;\n",
       "    }\n",
       "\n",
       "    .dataframe thead th {\n",
       "        text-align: right;\n",
       "    }\n",
       "</style>\n",
       "<table border=\"1\" class=\"dataframe\">\n",
       "  <thead>\n",
       "    <tr style=\"text-align: right;\">\n",
       "      <th></th>\n",
       "      <th>Id</th>\n",
       "      <th>Forks count</th>\n",
       "      <th>Issues count</th>\n",
       "      <th>Stars count</th>\n",
       "      <th>Watchers count</th>\n",
       "    </tr>\n",
       "  </thead>\n",
       "  <tbody>\n",
       "    <tr>\n",
       "      <th>count</th>\n",
       "      <td>1.300000e+01</td>\n",
       "      <td>13.0</td>\n",
       "      <td>13.000000</td>\n",
       "      <td>13.000000</td>\n",
       "      <td>13.000000</td>\n",
       "    </tr>\n",
       "    <tr>\n",
       "      <th>mean</th>\n",
       "      <td>2.466868e+08</td>\n",
       "      <td>0.0</td>\n",
       "      <td>1.615385</td>\n",
       "      <td>0.076923</td>\n",
       "      <td>0.076923</td>\n",
       "    </tr>\n",
       "    <tr>\n",
       "      <th>std</th>\n",
       "      <td>6.797489e+07</td>\n",
       "      <td>0.0</td>\n",
       "      <td>3.254189</td>\n",
       "      <td>0.277350</td>\n",
       "      <td>0.277350</td>\n",
       "    </tr>\n",
       "    <tr>\n",
       "      <th>min</th>\n",
       "      <td>1.364002e+08</td>\n",
       "      <td>0.0</td>\n",
       "      <td>0.000000</td>\n",
       "      <td>0.000000</td>\n",
       "      <td>0.000000</td>\n",
       "    </tr>\n",
       "    <tr>\n",
       "      <th>25%</th>\n",
       "      <td>2.132669e+08</td>\n",
       "      <td>0.0</td>\n",
       "      <td>0.000000</td>\n",
       "      <td>0.000000</td>\n",
       "      <td>0.000000</td>\n",
       "    </tr>\n",
       "    <tr>\n",
       "      <th>50%</th>\n",
       "      <td>2.835638e+08</td>\n",
       "      <td>0.0</td>\n",
       "      <td>0.000000</td>\n",
       "      <td>0.000000</td>\n",
       "      <td>0.000000</td>\n",
       "    </tr>\n",
       "    <tr>\n",
       "      <th>75%</th>\n",
       "      <td>2.955801e+08</td>\n",
       "      <td>0.0</td>\n",
       "      <td>0.000000</td>\n",
       "      <td>0.000000</td>\n",
       "      <td>0.000000</td>\n",
       "    </tr>\n",
       "    <tr>\n",
       "      <th>max</th>\n",
       "      <td>3.197993e+08</td>\n",
       "      <td>0.0</td>\n",
       "      <td>9.000000</td>\n",
       "      <td>1.000000</td>\n",
       "      <td>1.000000</td>\n",
       "    </tr>\n",
       "  </tbody>\n",
       "</table>\n",
       "</div>"
      ],
      "text/plain": [
       "                 Id  Forks count  Issues count  Stars count  Watchers count\n",
       "count  1.300000e+01         13.0     13.000000    13.000000       13.000000\n",
       "mean   2.466868e+08          0.0      1.615385     0.076923        0.076923\n",
       "std    6.797489e+07          0.0      3.254189     0.277350        0.277350\n",
       "min    1.364002e+08          0.0      0.000000     0.000000        0.000000\n",
       "25%    2.132669e+08          0.0      0.000000     0.000000        0.000000\n",
       "50%    2.835638e+08          0.0      0.000000     0.000000        0.000000\n",
       "75%    2.955801e+08          0.0      0.000000     0.000000        0.000000\n",
       "max    3.197993e+08          0.0      9.000000     1.000000        1.000000"
      ]
     },
     "execution_count": 14,
     "metadata": {},
     "output_type": "execute_result"
    }
   ],
   "source": [
    "repos.describe()"
   ]
  },
  {
   "cell_type": "code",
   "execution_count": 15,
   "metadata": {},
   "outputs": [
    {
     "name": "stdout",
     "output_type": "stream",
     "text": [
      "Two most common commit messages: Initial commit and Initial project files.\n"
     ]
    }
   ],
   "source": [
    "print(\"Two most common commit messages: {}\".format(' and '.join(commits['Message'].value_counts().index[:2])))"
   ]
  },
  {
   "cell_type": "code",
   "execution_count": 16,
   "metadata": {},
   "outputs": [],
   "source": [
    "commits_count = pd.DataFrame(pd.merge(repos, \n",
    "         commits, \n",
    "         left_on='Id', \n",
    "         right_on='Repo Id', \n",
    "         how = 'left').groupby('Id').size().reset_index())\n",
    "commits_count.columns = ['Id', 'Commits count']"
   ]
  },
  {
   "cell_type": "code",
   "execution_count": 17,
   "metadata": {},
   "outputs": [],
   "source": [
    "repos = pd.merge(repos, commits_count, on = 'Id')"
   ]
  },
  {
   "cell_type": "code",
   "execution_count": 18,
   "metadata": {},
   "outputs": [
    {
     "name": "stderr",
     "output_type": "stream",
     "text": [
      "/home/gsdenys/.local/lib/python3.6/site-packages/seaborn/_decorators.py:43: FutureWarning: Pass the following variables as keyword args: x, y. From version 0.12, the only valid positional argument will be `data`, and passing other arguments without an explicit keyword will result in an error or misinterpretation.\n",
      "  FutureWarning\n"
     ]
    },
    {
     "data": {
      "text/plain": [
       "Text(0.5, 1.0, 'Commits per repository')"
      ]
     },
     "execution_count": 18,
     "metadata": {},
     "output_type": "execute_result"
    },
    {
     "data": {
      "image/png": "[encoded data removed]",
      "text/plain": [
       "<Figure size 1440x864 with 1 Axes>"
      ]
     },
     "metadata": {},
     "output_type": "display_data"
    }
   ],
   "source": [
    "plt.figure(figsize = (20, 12))\n",
    "sns.barplot(repos['Name'], repos['Commits count'])\n",
    "plt.xticks(rotation = 90)\n",
    "plt.xlabel(\"Repository\", fontsize = 16)\n",
    "plt.ylabel(\"Commits\", fontsize = 16)\n",
    "plt.title(\"Commits per repository\", fontsize = 16)"
   ]
  },
  {
   "cell_type": "code",
   "execution_count": 19,
   "metadata": {},
   "outputs": [],
   "source": [
    "commits['Year'] = commits['Date'].apply(lambda x: x.split('-')[0])\n",
    "yearly_stats = commits.groupby('Year').count()['Commit Id']"
   ]
  },
  {
   "cell_type": "code",
   "execution_count": 20,
   "metadata": {},
   "outputs": [
    {
     "name": "stderr",
     "output_type": "stream",
     "text": [
      "/home/gsdenys/.local/lib/python3.6/site-packages/seaborn/_decorators.py:43: FutureWarning: Pass the following variables as keyword args: x, y. From version 0.12, the only valid positional argument will be `data`, and passing other arguments without an explicit keyword will result in an error or misinterpretation.\n",
      "  FutureWarning\n"
     ]
    },
    {
     "data": {
      "text/plain": [
       "Text(0.5, 1.0, 'Commits in each year')"
      ]
     },
     "execution_count": 20,
     "metadata": {},
     "output_type": "execute_result"
    },
    {
     "data": {
      "image/png": "[encoded data removed]",
      "text/plain": [
       "<Figure size 1440x864 with 1 Axes>"
      ]
     },
     "metadata": {},
     "output_type": "display_data"
    }
   ],
   "source": [
    "plt.figure(figsize = (20, 12))\n",
    "sns.barplot(yearly_stats.index, yearly_stats.values)\n",
    "plt.xlabel(\"Year\", fontsize = 16)\n",
    "plt.ylabel(\"Commits\", fontsize = 16)\n",
    "plt.title(\"Commits in each year\", fontsize = 16)"
   ]
  },
  {
   "cell_type": "code",
   "execution_count": 25,
   "metadata": {},
   "outputs": [],
   "source": [
    "commits['Month'] = commits['Date'].apply(lambda x: x.split('-')[1])\n",
    "monthly_stats = commits[commits['Year'] == '2020'].groupby('Month').count()['Commit Id']"
   ]
  },
  {
   "cell_type": "code",
   "execution_count": 26,
   "metadata": {},
   "outputs": [
    {
     "name": "stderr",
     "output_type": "stream",
     "text": [
      "/home/gsdenys/.local/lib/python3.6/site-packages/seaborn/_decorators.py:43: FutureWarning: Pass the following variables as keyword args: x, y. From version 0.12, the only valid positional argument will be `data`, and passing other arguments without an explicit keyword will result in an error or misinterpretation.\n",
      "  FutureWarning\n"
     ]
    },
    {
     "data": {
      "text/plain": [
       "Text(0.5, 1.0, 'Commits in each month of 2020')"
      ]
     },
     "execution_count": 26,
     "metadata": {},
     "output_type": "execute_result"
    },
    {
     "data": {
      "image/png": "[encoded data removed]",
      "text/plain": [
       "<Figure size 1440x864 with 1 Axes>"
      ]
     },
     "metadata": {},
     "output_type": "display_data"
    }
   ],
   "source": [
    "month_mapper = { '01': 'January', '02': 'February', '03': 'March', '04': 'April', '05': 'May', '06': 'June', '07': 'July', '08': 'Autgust', '09': 'September','10': 'October', '11':'November', '12': 'Dezember'}\n",
    "labels = []\n",
    "for value in monthly_stats.index:\n",
    "    labels.append(month_mapper[value])\n",
    "\n",
    "plt.figure(figsize = (20, 12))\n",
    "plot = sns.barplot(monthly_stats.index, monthly_stats.values)\n",
    "plt.xlabel(\"Month\", fontsize = 16)\n",
    "plot.set_xticklabels(labels)\n",
    "plt.ylabel(\"Commits\", fontsize = 16)\n",
    "plt.title(\"Commits in each month of 2020\", fontsize = 16)"
   ]
  },
  {
   "cell_type": "code",
   "execution_count": 27,
   "metadata": {},
   "outputs": [],
   "source": [
    "commits['Date only'] = pd.to_datetime(commits['Date'].apply(lambda date: date.split('T')[0]))\n",
    "commit_stats = commits[(commits['Year'] == '2020')\n",
    "                       & (commits['Month'] == '09')]['Date only'].value_counts().sort_index()"
   ]
  },
  {
   "cell_type": "code",
   "execution_count": 28,
   "metadata": {},
   "outputs": [
    {
     "name": "stderr",
     "output_type": "stream",
     "text": [
      "/home/gsdenys/.local/lib/python3.6/site-packages/seaborn/_decorators.py:43: FutureWarning: Pass the following variables as keyword args: x, y. From version 0.12, the only valid positional argument will be `data`, and passing other arguments without an explicit keyword will result in an error or misinterpretation.\n",
      "  FutureWarning\n"
     ]
    },
    {
     "data": {
      "text/plain": [
       "Text(0.5, 1.0, 'Commits in March, 2019')"
      ]
     },
     "execution_count": 28,
     "metadata": {},
     "output_type": "execute_result"
    },
    {
     "data": {
      "image/png": "[encoded data removed]",
      "text/plain": [
       "<Figure size 1440x864 with 1 Axes>"
      ]
     },
     "metadata": {},
     "output_type": "display_data"
    }
   ],
   "source": [
    "labels = []\n",
    "for value in commit_stats.index:\n",
    "    labels.append(value.date())\n",
    "    \n",
    "plt.figure(figsize = (20, 12))\n",
    "plot = sns.barplot(commit_stats.index, commit_stats.values)\n",
    "plt.xlabel(\"Date\", fontsize = 16)\n",
    "plt.xticks(rotation = 90)\n",
    "plot.set_xticklabels(labels)\n",
    "plt.ylabel(\"Commits\", fontsize = 16)\n",
    "plt.title(\"Commits in March, 2019\", fontsize = 16)"
   ]
  },
  {
   "cell_type": "markdown",
   "metadata": {},
   "source": [
    "## Language"
   ]
  },
  {
   "cell_type": "code",
   "execution_count": 29,
   "metadata": {},
   "outputs": [],
   "source": [
    "list_of_languages = []\n",
    "for languages in repos['Languages']:\n",
    "    if type(languages) == str:\n",
    "        for language in languages.split(','):\n",
    "            list_of_languages.append(language.strip())"
   ]
  },
  {
   "cell_type": "code",
   "execution_count": 30,
   "metadata": {},
   "outputs": [
    {
     "name": "stderr",
     "output_type": "stream",
     "text": [
      "/home/gsdenys/.local/lib/python3.6/site-packages/seaborn/_decorators.py:43: FutureWarning: Pass the following variables as keyword args: x, y. From version 0.12, the only valid positional argument will be `data`, and passing other arguments without an explicit keyword will result in an error or misinterpretation.\n",
      "  FutureWarning\n"
     ]
    },
    {
     "data": {
      "text/plain": [
       "Text(0.5, 1.0, 'Language distribution amongst all repositories')"
      ]
     },
     "execution_count": 30,
     "metadata": {},
     "output_type": "execute_result"
    },
    {
     "data": {
      "image/png": "[encoded data removed]",
      "text/plain": [
       "<Figure size 1440x864 with 1 Axes>"
      ]
     },
     "metadata": {},
     "output_type": "display_data"
    }
   ],
   "source": [
    "languages_count = pd.Series(list_of_languages).value_counts()\n",
    "\n",
    "plt.figure(figsize = (20, 12))\n",
    "sns.barplot(languages_count.index, languages_count.values)\n",
    "plt.xlabel(\"Languages\", fontsize = 16)\n",
    "plt.xticks(rotation = 90)\n",
    "plt.ylabel(\"Repositories\", fontsize = 16)\n",
    "plt.title(\"Language distribution amongst all repositories\", fontsize = 16)"
   ]
  },
  {
   "cell_type": "code",
   "execution_count": null,
   "metadata": {},
   "outputs": [],
   "source": []
  }
 ],
 "metadata": {
  "kernelspec": {
   "display_name": "Python 3",
   "language": "python",
   "name": "python3"
  },
  "language_info": {
   "codemirror_mode": {
    "name": "ipython",
    "version": 3
   },
   "file_extension": ".py",
   "mimetype": "text/x-python",
   "name": "python",
   "nbconvert_exporter": "python",
   "pygments_lexer": "ipython3",
   "version": "3.6.9"
  }
 },
 "nbformat": 4,
 "nbformat_minor": 5
}

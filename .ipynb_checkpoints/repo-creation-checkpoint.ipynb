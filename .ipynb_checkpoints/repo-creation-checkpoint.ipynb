{
 "cells": [
  {
   "cell_type": "code",
   "execution_count": 1,
   "metadata": {},
   "outputs": [],
   "source": [
    "import requests\n",
    "import pandas as pd\n",
    "import matplotlib.pyplot as plt\n",
    "\n",
    "import repository as repo"
   ]
  },
  {
   "cell_type": "code",
   "execution_count": 2,
   "metadata": {},
   "outputs": [],
   "source": [
    "base_repo = \"https://api.github.com/users/{user}/repos\" "
   ]
  },
  {
   "cell_type": "code",
   "execution_count": 3,
   "metadata": {},
   "outputs": [],
   "source": [
    "columns = [\n",
    " 'name',\n",
    " 'fork',\n",
    " 'created_at',\n",
    " 'updated_at',\n",
    " 'pushed_at',\n",
    " 'size',\n",
    " 'stargazers_count',\n",
    " 'watchers_count',\n",
    " 'language',\n",
    " 'has_issues',\n",
    " 'has_projects',\n",
    " 'has_downloads',\n",
    " 'has_wiki',\n",
    " 'has_pages',\n",
    " 'forks_count',\n",
    " 'archived',\n",
    " 'disabled',\n",
    " 'open_issues_count',\n",
    " 'forks',\n",
    " 'open_issues',\n",
    " 'watchers',\n",
    " 'default_branch'\n",
    "]"
   ]
  },
  {
   "cell_type": "code",
   "execution_count": 4,
   "metadata": {},
   "outputs": [],
   "source": [
    "user = \"mspdl\"\n",
    "#user = \"eliardo\"\n",
    "\n",
    "#url_repo = base_repo.replace(\"{user}\", user)"
   ]
  },
  {
   "cell_type": "markdown",
   "metadata": {},
   "source": [
    "# Repositories"
   ]
  },
  {
   "cell_type": "code",
   "execution_count": 5,
   "metadata": {},
   "outputs": [],
   "source": [
    "#repos = requests.get(url_repo)"
   ]
  },
  {
   "cell_type": "code",
   "execution_count": 6,
   "metadata": {},
   "outputs": [],
   "source": [
    "#df = pd.DataFrame(repos.json(), columns=columns)\n",
    "\n",
    "#df['created_at'] = pd.to_datetime(df['created_at'])\n",
    "#df['updated_at'] = pd.to_datetime(df['updated_at'])\n",
    "#df['pushed_at'] = pd.to_datetime(df['pushed_at'])\n",
    "\n",
    "df = repo.getRepos(user)"
   ]
  },
  {
   "cell_type": "markdown",
   "metadata": {},
   "source": [
    "## Languages"
   ]
  },
  {
   "cell_type": "code",
   "execution_count": 7,
   "metadata": {},
   "outputs": [],
   "source": [
    "#df['year'] = pd.DatetimeIndex(df['created_at']).year\n",
    "#languages = df[[\"language\", \"year\"]]\n",
    "#lg = df.groupby([\"language\", \"year\"])[\"language\"].count().reset_index(name=\"count\")"
   ]
  },
  {
   "cell_type": "code",
   "execution_count": 8,
   "metadata": {},
   "outputs": [],
   "source": [
    "#df1 = lg.pivot(index='year', columns='language', values='count')"
   ]
  },
  {
   "cell_type": "code",
   "execution_count": 9,
   "metadata": {},
   "outputs": [
    {
     "ename": "NameError",
     "evalue": "name 'creationFromYear' is not defined",
     "output_type": "error",
     "traceback": [
      "\u001b[0;31m---------------------------------------------------------------------------\u001b[0m",
      "\u001b[0;31mNameError\u001b[0m                                 Traceback (most recent call last)",
      "\u001b[0;32m<ipython-input-9-1c9e0283125f>\u001b[0m in \u001b[0;36m<module>\u001b[0;34m()\u001b[0m\n\u001b[1;32m      2\u001b[0m \u001b[0;31m#df1\u001b[0m\u001b[0;34m\u001b[0m\u001b[0;34m\u001b[0m\u001b[0;34m\u001b[0m\u001b[0m\n\u001b[1;32m      3\u001b[0m \u001b[0;34m\u001b[0m\u001b[0m\n\u001b[0;32m----> 4\u001b[0;31m \u001b[0mdf1\u001b[0m \u001b[0;34m=\u001b[0m \u001b[0mcreationFromYear\u001b[0m\u001b[0;34m(\u001b[0m\u001b[0mdf\u001b[0m\u001b[0;34m)\u001b[0m\u001b[0;34m\u001b[0m\u001b[0;34m\u001b[0m\u001b[0m\n\u001b[0m",
      "\u001b[0;31mNameError\u001b[0m: name 'creationFromYear' is not defined"
     ]
    }
   ],
   "source": [
    "#df1 = df1.fillna(0)\n",
    "#df1\n",
    "\n",
    "df1 = repo.creationFromYear(df)"
   ]
  },
  {
   "cell_type": "code",
   "execution_count": null,
   "metadata": {},
   "outputs": [],
   "source": [
    "df1.plot(kind=\"area\", figsize=(20,10), title=\"Criação de Repositórios por Linguagem e por Ano\")"
   ]
  },
  {
   "cell_type": "markdown",
   "metadata": {},
   "source": [
    "## Quantidade de Código"
   ]
  },
  {
   "cell_type": "code",
   "execution_count": null,
   "metadata": {},
   "outputs": [],
   "source": [
    "languages = df[[\"language\", \"year\", \"size\"]]\n",
    "lg1 = languages.groupby([\"language\", \"year\"])[\"size\"].sum().reset_index(name=\"size\")\n",
    "\n",
    "df2 = lg1.pivot(index='year', columns='language', values='size')\n",
    "df2 = df2.fillna(0)\n",
    "\n",
    "df2"
   ]
  },
  {
   "cell_type": "code",
   "execution_count": null,
   "metadata": {},
   "outputs": [],
   "source": [
    "df2.plot(kind=\"area\", figsize=(20,10), title=\"Criação de Código por Linguagem por Ano\")"
   ]
  },
  {
   "cell_type": "code",
   "execution_count": null,
   "metadata": {},
   "outputs": [],
   "source": []
  }
 ],
 "metadata": {
  "kernelspec": {
   "display_name": "Python 3",
   "language": "python",
   "name": "python3"
  },
  "language_info": {
   "codemirror_mode": {
    "name": "ipython",
    "version": 3
   },
   "file_extension": ".py",
   "mimetype": "text/x-python",
   "name": "python",
   "nbconvert_exporter": "python",
   "pygments_lexer": "ipython3",
   "version": "3.6.9"
  }
 },
 "nbformat": 4,
 "nbformat_minor": 2
}

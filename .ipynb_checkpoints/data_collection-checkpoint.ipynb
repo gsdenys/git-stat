{
 "cells": [
  {
   "cell_type": "markdown",
   "metadata": {},
   "source": [
    "# Github Data Collection"
   ]
  },
  {
   "cell_type": "markdown",
   "metadata": {},
   "source": [
    "This notebook uses the __GitHub API__ to extract, from public repositories, information from user profile such as repositories and commits and save it into __.csv__.\n",
    "\n",
    "Before start to fetching data you need to set 2 very important constants, the __user__ that'll be analised, and the github token;"
   ]
  },
  {
   "cell_type": "code",
   "execution_count": 5,
   "metadata": {},
   "outputs": [],
   "source": [
    "# Github user that'll be analysed\n",
    "user = 'gsdenys'\n",
    "\n",
    "# Github token to login at gihub api.\n",
    "# This one is very important because the github limits the number of call for non authenticated IP;\n",
    "token = \"dcb682143de4fecea72d275be29fb5f235d1c9de\""
   ]
  },
  {
   "cell_type": "markdown",
   "metadata": {},
   "source": [
    "## Libraries Import & Header Definition\n",
    "\n",
    "Import required libraries to fetching data"
   ]
  },
  {
   "cell_type": "code",
   "execution_count": 6,
   "metadata": {},
   "outputs": [],
   "source": [
    "import json\n",
    "import requests\n",
    "import numpy as np\n",
    "import pandas as pd"
   ]
  },
  {
   "cell_type": "markdown",
   "metadata": {},
   "source": [
    "Create the authentication header parameter"
   ]
  },
  {
   "cell_type": "code",
   "execution_count": 7,
   "metadata": {},
   "outputs": [],
   "source": [
    "headers = requests.utils.default_headers()\n",
    "headers.update(\n",
    "    {\n",
    "#         'User-Agent': 'PosterisIT',\n",
    "        'Authorization': 'token ' + token\n",
    "    }\n",
    ")"
   ]
  },
  {
   "cell_type": "markdown",
   "metadata": {},
   "source": [
    "## User Information"
   ]
  },
  {
   "cell_type": "code",
   "execution_count": 9,
   "metadata": {},
   "outputs": [],
   "source": [
    "data = requests.get('https://api.github.com/users/' + user)\n",
    "data = data.json()"
   ]
  },
  {
   "cell_type": "code",
   "execution_count": 12,
   "metadata": {},
   "outputs": [
    {
     "name": "stdout",
     "output_type": "stream",
     "text": [
      "Information about user gsdenys:\n",
      "\n",
      "\t Name: Denys G. santos\n",
      "Email: None\n",
      "Location: São Paulo, SP, Brazil\n",
      "Public repos: 30\n",
      "Public gists: 1\n",
      "About: None\n"
     ]
    }
   ],
   "source": [
    "print(\"Information about user {}:\".format(user))\n",
    "print(\"\\tName: {}\".format(data['name']))\n",
    "print(\"\\tEmail: {}\".format(data['email']))\n",
    "print(\"\\tLocation: {}\".format(data['location']))\n",
    "print(\"\\tPublic repos: {}\".format(data['public_repos']))\n",
    "print(\"\\tPublic gists: {}\".format(data['public_gists']))\n",
    "print(\"\\tAbout: {}\".format(data['bio']))"
   ]
  }
 ],
 "metadata": {
  "kernelspec": {
   "display_name": "Python 3",
   "language": "python",
   "name": "python3"
  },
  "language_info": {
   "codemirror_mode": {
    "name": "ipython",
    "version": 3
   },
   "file_extension": ".py",
   "mimetype": "text/x-python",
   "name": "python",
   "nbconvert_exporter": "python",
   "pygments_lexer": "ipython3",
   "version": "3.6.9"
  }
 },
 "nbformat": 4,
 "nbformat_minor": 4
}

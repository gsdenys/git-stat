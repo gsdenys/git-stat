{
 "cells": [
  {
   "cell_type": "markdown",
   "metadata": {},
   "source": [
    "# Github Data Analisys"
   ]
  },
  {
   "cell_type": "code",
   "execution_count": null,
   "metadata": {},
   "outputs": [],
   "source": []
  },
  {
   "cell_type": "markdown",
   "metadata": {},
   "source": [
    "Using the __GitHub API__, extract, from public repositories, information from user profile such as repositories and commits and save it into __.csv__.\n",
    "\n",
    "Before start to fetching data you need to set 2 very important constants, the __user__ that'll be analised, and the github token;"
   ]
  },
  {
   "cell_type": "code",
   "execution_count": 1,
   "metadata": {},
   "outputs": [],
   "source": [
    "# Github user that'll be analysed\n",
    "git_user = 'gsdenys'\n",
    "\n",
    "# Github token to login at gihub api.\n",
    "# This one is very important because the github limits the number of call for non authenticated IP;\n",
    "git_token = \"d08ae226f69047d3d878ec82f6deac9f8d6269df\""
   ]
  },
  {
   "cell_type": "markdown",
   "metadata": {},
   "source": [
    "## Libraries Import & Header Definition\n",
    "\n",
    "Import required libraries to fetching data and create __User__ and __Repository__ objects. "
   ]
  },
  {
   "cell_type": "code",
   "execution_count": 2,
   "metadata": {},
   "outputs": [],
   "source": [
    "from github import User, Repository, Commit\n",
    "\n",
    "user = User(git_token)\n",
    "repository = Repository(git_token)\n",
    "commit = Commit(git_token)"
   ]
  },
  {
   "cell_type": "markdown",
   "metadata": {},
   "source": [
    "## Data Loader\n",
    "\n",
    "Using the __GitHub API__, extract, from public repositories, information from user profile such as repositories and commits and save it into __.csv__."
   ]
  },
  {
   "cell_type": "markdown",
   "metadata": {},
   "source": [
    "### User Information\n",
    "\n",
    "Load and print basic git user data "
   ]
  },
  {
   "cell_type": "code",
   "execution_count": 3,
   "metadata": {},
   "outputs": [
    {
     "name": "stdout",
     "output_type": "stream",
     "text": [
      "Information about user gsdenys:\n",
      "\tName: Denys G. santos\n",
      "\tEmail: gsdenys@gmail.com\n",
      "\tLocation: São Paulo, SP, Brazil\n",
      "\tPublic repos: 30\n",
      "\tPublic gists: 1\n",
      "\tAbout: Father, husband, and senior IT professional.\n"
     ]
    }
   ],
   "source": [
    "user.load(git_user).show()"
   ]
  },
  {
   "cell_type": "markdown",
   "metadata": {},
   "source": [
    "### Repositories\n",
    "\n",
    "Collect repository data."
   ]
  },
  {
   "cell_type": "code",
   "execution_count": 4,
   "metadata": {},
   "outputs": [],
   "source": [
    "path = \"/tmp/repos_info_{}.csv\".format(git_user)\n",
    "repos_df = repository.load(user.get()).save(path).get()"
   ]
  },
  {
   "cell_type": "markdown",
   "metadata": {},
   "source": [
    "### Commit\n",
    "\n",
    "Collect commit data."
   ]
  },
  {
   "cell_type": "code",
   "execution_count": 5,
   "metadata": {},
   "outputs": [
    {
     "data": {
      "text/html": [
       "<div>\n",
       "<style scoped>\n",
       "    .dataframe tbody tr th:only-of-type {\n",
       "        vertical-align: middle;\n",
       "    }\n",
       "\n",
       "    .dataframe tbody tr th {\n",
       "        vertical-align: top;\n",
       "    }\n",
       "\n",
       "    .dataframe thead th {\n",
       "        text-align: right;\n",
       "    }\n",
       "</style>\n",
       "<table border=\"1\" class=\"dataframe\">\n",
       "  <thead>\n",
       "    <tr style=\"text-align: right;\">\n",
       "      <th></th>\n",
       "      <th>Repo Id</th>\n",
       "      <th>Commit Id</th>\n",
       "      <th>Date</th>\n",
       "      <th>Message</th>\n",
       "    </tr>\n",
       "  </thead>\n",
       "  <tbody>\n",
       "    <tr>\n",
       "      <th>0</th>\n",
       "      <td>50627775</td>\n",
       "      <td>09efd76dac57118f5fc8fbdfdbd4e419415ddfed</td>\n",
       "      <td>2016-03-09T13:10:27Z</td>\n",
       "      <td>Update README.md</td>\n",
       "    </tr>\n",
       "    <tr>\n",
       "      <th>1</th>\n",
       "      <td>50627775</td>\n",
       "      <td>72f303f68f7f880081ff06f66571ac51c2e2aa0a</td>\n",
       "      <td>2016-03-09T13:09:16Z</td>\n",
       "      <td>Update README.md</td>\n",
       "    </tr>\n",
       "    <tr>\n",
       "      <th>2</th>\n",
       "      <td>50627775</td>\n",
       "      <td>dee2123d9074181662265aee0574a873db0a2d60</td>\n",
       "      <td>2016-03-08T23:58:41Z</td>\n",
       "      <td>create a basic program</td>\n",
       "    </tr>\n",
       "    <tr>\n",
       "      <th>3</th>\n",
       "      <td>50627775</td>\n",
       "      <td>9c5dea4bad1f37a17ea70e172db77600c76b3c76</td>\n",
       "      <td>2016-03-08T23:38:11Z</td>\n",
       "      <td>initial commit</td>\n",
       "    </tr>\n",
       "    <tr>\n",
       "      <th>4</th>\n",
       "      <td>50627775</td>\n",
       "      <td>1d41bf7b572d75cbd6102504b14a8bd88528d814</td>\n",
       "      <td>2016-01-29T01:27:23Z</td>\n",
       "      <td>Initial commit</td>\n",
       "    </tr>\n",
       "    <tr>\n",
       "      <th>...</th>\n",
       "      <td>...</td>\n",
       "      <td>...</td>\n",
       "      <td>...</td>\n",
       "      <td>...</td>\n",
       "    </tr>\n",
       "    <tr>\n",
       "      <th>1203</th>\n",
       "      <td>327976915</td>\n",
       "      <td>e334ff94a28f49e8c3b1eba9a85dd5b942afed74</td>\n",
       "      <td>2021-01-05T19:47:59Z</td>\n",
       "      <td>First Commit</td>\n",
       "    </tr>\n",
       "    <tr>\n",
       "      <th>1204</th>\n",
       "      <td>327976915</td>\n",
       "      <td>218234c577b0008a114119037529a8d7b40bce97</td>\n",
       "      <td>2021-01-05T19:43:42Z</td>\n",
       "      <td>first commit</td>\n",
       "    </tr>\n",
       "    <tr>\n",
       "      <th>1205</th>\n",
       "      <td>152341182</td>\n",
       "      <td>856d4bf569b38765da6841e012c2763db99a33a6</td>\n",
       "      <td>2018-10-12T01:17:52Z</td>\n",
       "      <td>Set theme jekyll-theme-cayman</td>\n",
       "    </tr>\n",
       "    <tr>\n",
       "      <th>1206</th>\n",
       "      <td>152341182</td>\n",
       "      <td>39fae3419fc665471cd2ef3592b3a4b301ace1c9</td>\n",
       "      <td>2018-10-12T01:15:06Z</td>\n",
       "      <td>Create README.md</td>\n",
       "    </tr>\n",
       "    <tr>\n",
       "      <th>1207</th>\n",
       "      <td>152341182</td>\n",
       "      <td>c1e81ae6168f2cdf4fe513e8ab0be8a936c44374</td>\n",
       "      <td>2018-10-10T00:53:44Z</td>\n",
       "      <td>Initial commit</td>\n",
       "    </tr>\n",
       "  </tbody>\n",
       "</table>\n",
       "<p>1208 rows × 4 columns</p>\n",
       "</div>"
      ],
      "text/plain": [
       "        Repo Id                                 Commit Id  \\\n",
       "0      50627775  09efd76dac57118f5fc8fbdfdbd4e419415ddfed   \n",
       "1      50627775  72f303f68f7f880081ff06f66571ac51c2e2aa0a   \n",
       "2      50627775  dee2123d9074181662265aee0574a873db0a2d60   \n",
       "3      50627775  9c5dea4bad1f37a17ea70e172db77600c76b3c76   \n",
       "4      50627775  1d41bf7b572d75cbd6102504b14a8bd88528d814   \n",
       "...         ...                                       ...   \n",
       "1203  327976915  e334ff94a28f49e8c3b1eba9a85dd5b942afed74   \n",
       "1204  327976915  218234c577b0008a114119037529a8d7b40bce97   \n",
       "1205  152341182  856d4bf569b38765da6841e012c2763db99a33a6   \n",
       "1206  152341182  39fae3419fc665471cd2ef3592b3a4b301ace1c9   \n",
       "1207  152341182  c1e81ae6168f2cdf4fe513e8ab0be8a936c44374   \n",
       "\n",
       "                      Date                        Message  \n",
       "0     2016-03-09T13:10:27Z               Update README.md  \n",
       "1     2016-03-09T13:09:16Z               Update README.md  \n",
       "2     2016-03-08T23:58:41Z         create a basic program  \n",
       "3     2016-03-08T23:38:11Z                 initial commit  \n",
       "4     2016-01-29T01:27:23Z                 Initial commit  \n",
       "...                    ...                            ...  \n",
       "1203  2021-01-05T19:47:59Z                   First Commit  \n",
       "1204  2021-01-05T19:43:42Z                   first commit  \n",
       "1205  2018-10-12T01:17:52Z  Set theme jekyll-theme-cayman  \n",
       "1206  2018-10-12T01:15:06Z               Create README.md  \n",
       "1207  2018-10-10T00:53:44Z                 Initial commit  \n",
       "\n",
       "[1208 rows x 4 columns]"
      ]
     },
     "execution_count": 5,
     "metadata": {},
     "output_type": "execute_result"
    }
   ],
   "source": [
    "commit_df = commit.load(repository.get(), user).get()\n",
    "# commit_df"
   ]
  },
  {
   "cell_type": "code",
   "execution_count": null,
   "metadata": {},
   "outputs": [],
   "source": []
  }
 ],
 "metadata": {
  "kernelspec": {
   "display_name": "Python 3",
   "language": "python",
   "name": "python3"
  },
  "language_info": {
   "codemirror_mode": {
    "name": "ipython",
    "version": 3
   },
   "file_extension": ".py",
   "mimetype": "text/x-python",
   "name": "python",
   "nbconvert_exporter": "python",
   "pygments_lexer": "ipython3",
   "version": "3.8.6"
  }
 },
 "nbformat": 4,
 "nbformat_minor": 4
}

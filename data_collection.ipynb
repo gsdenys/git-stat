{
 "cells": [
  {
   "cell_type": "markdown",
   "metadata": {},
   "source": [
    "# Github Data Collection"
   ]
  },
  {
   "cell_type": "markdown",
   "metadata": {},
   "source": [
    "Using the __GitHub API__, extract, from public repositories, information from user profile such as repositories and commits and save it into __.csv__.\n",
    "\n",
    "Before start to fetching data you need to set 2 very important constants, the __user__ that'll be analised, and the github token;"
   ]
  },
  {
   "cell_type": "markdown",
   "metadata": {},
   "source": [
    "## System Preparation \n",
    "\n",
    "\n",
    "### Import Library\n",
    "\n",
    "Import required libraries, it depends of libraries installation. So, before run this notebook is recomended to run the command below inside this project home directory in a system terminal.\n",
    "\n",
    "```bash\n",
    "pip install -r requirements.txt\n",
    "```\n",
    "\n",
    "once installed all dependencies you'll be ready to run this notebook. "
   ]
  },
  {
   "cell_type": "code",
   "execution_count": 1,
   "metadata": {},
   "outputs": [],
   "source": [
    "from github.user import User\n",
    "from github.repository import Repository\n",
    "from github.commit import Commit\n",
    "from github.languages import Languages "
   ]
  },
  {
   "cell_type": "markdown",
   "metadata": {},
   "source": [
    "### Data Extractor Initialization\n",
    "\n",
    "Now you're ready to start extract data from __Github API__. To do that, initialize the extractors for __user__, __repository__ and __commit__. "
   ]
  },
  {
   "cell_type": "code",
   "execution_count": 2,
   "metadata": {},
   "outputs": [],
   "source": [
    "user = User()\n",
    "repository = Repository()\n",
    "commit = Commit()\n",
    "languages = Languages()"
   ]
  },
  {
   "cell_type": "markdown",
   "metadata": {},
   "source": [
    "## Data Loader\n",
    "\n",
    "Using the __GitHub API__, extract, from public repositories, information from user profile such as repositories and commits and save it into __.csv__."
   ]
  },
  {
   "cell_type": "markdown",
   "metadata": {},
   "source": [
    "### User Information\n",
    "\n",
    "Load and print basic git user data "
   ]
  },
  {
   "cell_type": "code",
   "execution_count": 3,
   "metadata": {},
   "outputs": [],
   "source": [
    "user_df = user.load().save().get()"
   ]
  },
  {
   "cell_type": "markdown",
   "metadata": {},
   "source": [
    "### Repositories\n",
    "\n",
    "Collect repository data."
   ]
  },
  {
   "cell_type": "code",
   "execution_count": 4,
   "metadata": {},
   "outputs": [
    {
     "data": {
      "text/html": [
       "<div>\n",
       "<style scoped>\n",
       "    .dataframe tbody tr th:only-of-type {\n",
       "        vertical-align: middle;\n",
       "    }\n",
       "\n",
       "    .dataframe tbody tr th {\n",
       "        vertical-align: top;\n",
       "    }\n",
       "\n",
       "    .dataframe thead th {\n",
       "        text-align: right;\n",
       "    }\n",
       "</style>\n",
       "<table border=\"1\" class=\"dataframe\">\n",
       "  <thead>\n",
       "    <tr style=\"text-align: right;\">\n",
       "      <th></th>\n",
       "      <th>Id</th>\n",
       "      <th>Name</th>\n",
       "      <th>Description</th>\n",
       "      <th>Created on</th>\n",
       "      <th>Updated on</th>\n",
       "      <th>Owner</th>\n",
       "      <th>License</th>\n",
       "      <th>Includes wiki</th>\n",
       "      <th>Forks count</th>\n",
       "      <th>Issues count</th>\n",
       "      <th>Stars count</th>\n",
       "      <th>Watchers count</th>\n",
       "      <th>Repo URL</th>\n",
       "      <th>Commits URL</th>\n",
       "      <th>Languages URL</th>\n",
       "    </tr>\n",
       "  </thead>\n",
       "  <tbody>\n",
       "    <tr>\n",
       "      <th>0</th>\n",
       "      <td>50627775</td>\n",
       "      <td>alf-db-constraint</td>\n",
       "      <td>Database constraint to Alfresco Document Type</td>\n",
       "      <td>2016-01-29T01:27:23Z</td>\n",
       "      <td>2017-08-09T11:32:25Z</td>\n",
       "      <td>gsdenys</td>\n",
       "      <td>GNU Lesser General Public License v2.1</td>\n",
       "      <td>True</td>\n",
       "      <td>0</td>\n",
       "      <td>0</td>\n",
       "      <td>4</td>\n",
       "      <td>4</td>\n",
       "      <td>https://api.github.com/repos/gsdenys/alf-db-co...</td>\n",
       "      <td>https://api.github.com/repos/gsdenys/alf-db-co...</td>\n",
       "      <td>https://api.github.com/repos/gsdenys/alf-db-co...</td>\n",
       "    </tr>\n",
       "    <tr>\n",
       "      <th>1</th>\n",
       "      <td>39864719</td>\n",
       "      <td>alfresco-bulk-export</td>\n",
       "      <td>Automatically exported from code.google.com/p/...</td>\n",
       "      <td>2015-07-29T00:36:35Z</td>\n",
       "      <td>2019-09-19T11:17:25Z</td>\n",
       "      <td>gsdenys</td>\n",
       "      <td>GNU Lesser General Public License v3.0</td>\n",
       "      <td>False</td>\n",
       "      <td>32</td>\n",
       "      <td>17</td>\n",
       "      <td>11</td>\n",
       "      <td>11</td>\n",
       "      <td>https://api.github.com/repos/gsdenys/alfresco-...</td>\n",
       "      <td>https://api.github.com/repos/gsdenys/alfresco-...</td>\n",
       "      <td>https://api.github.com/repos/gsdenys/alfresco-...</td>\n",
       "    </tr>\n",
       "    <tr>\n",
       "      <th>2</th>\n",
       "      <td>197203698</td>\n",
       "      <td>amqp-client</td>\n",
       "      <td>Lua Client for AMQP</td>\n",
       "      <td>2019-07-16T13:52:44Z</td>\n",
       "      <td>2020-09-27T09:41:13Z</td>\n",
       "      <td>gsdenys</td>\n",
       "      <td>Apache License 2.0</td>\n",
       "      <td>True</td>\n",
       "      <td>7</td>\n",
       "      <td>6</td>\n",
       "      <td>5</td>\n",
       "      <td>5</td>\n",
       "      <td>https://api.github.com/repos/gsdenys/amqp-client</td>\n",
       "      <td>https://api.github.com/repos/gsdenys/amqp-clie...</td>\n",
       "      <td>https://api.github.com/repos/gsdenys/amqp-clie...</td>\n",
       "    </tr>\n",
       "    <tr>\n",
       "      <th>3</th>\n",
       "      <td>241175035</td>\n",
       "      <td>bpm-engine</td>\n",
       "      <td>Event drive engine for BPMN</td>\n",
       "      <td>2020-02-17T18:07:22Z</td>\n",
       "      <td>2020-02-17T18:23:29Z</td>\n",
       "      <td>gsdenys</td>\n",
       "      <td>Apache License 2.0</td>\n",
       "      <td>True</td>\n",
       "      <td>0</td>\n",
       "      <td>0</td>\n",
       "      <td>0</td>\n",
       "      <td>0</td>\n",
       "      <td>https://api.github.com/repos/gsdenys/bpm-engine</td>\n",
       "      <td>https://api.github.com/repos/gsdenys/bpm-engin...</td>\n",
       "      <td>https://api.github.com/repos/gsdenys/bpm-engin...</td>\n",
       "    </tr>\n",
       "    <tr>\n",
       "      <th>4</th>\n",
       "      <td>27539722</td>\n",
       "      <td>cmis-java-sample</td>\n",
       "      <td>Breve exemplo de ações usando OpenCMIS</td>\n",
       "      <td>2014-12-04T12:35:44Z</td>\n",
       "      <td>2015-03-23T14:09:08Z</td>\n",
       "      <td>gsdenys</td>\n",
       "      <td>None</td>\n",
       "      <td>True</td>\n",
       "      <td>0</td>\n",
       "      <td>0</td>\n",
       "      <td>1</td>\n",
       "      <td>1</td>\n",
       "      <td>https://api.github.com/repos/gsdenys/cmis-java...</td>\n",
       "      <td>https://api.github.com/repos/gsdenys/cmis-java...</td>\n",
       "      <td>https://api.github.com/repos/gsdenys/cmis-java...</td>\n",
       "    </tr>\n",
       "  </tbody>\n",
       "</table>\n",
       "</div>"
      ],
      "text/plain": [
       "          Id                  Name  \\\n",
       "0   50627775     alf-db-constraint   \n",
       "1   39864719  alfresco-bulk-export   \n",
       "2  197203698           amqp-client   \n",
       "3  241175035            bpm-engine   \n",
       "4   27539722      cmis-java-sample   \n",
       "\n",
       "                                         Description            Created on  \\\n",
       "0      Database constraint to Alfresco Document Type  2016-01-29T01:27:23Z   \n",
       "1  Automatically exported from code.google.com/p/...  2015-07-29T00:36:35Z   \n",
       "2                                Lua Client for AMQP  2019-07-16T13:52:44Z   \n",
       "3                        Event drive engine for BPMN  2020-02-17T18:07:22Z   \n",
       "4             Breve exemplo de ações usando OpenCMIS  2014-12-04T12:35:44Z   \n",
       "\n",
       "             Updated on    Owner                                 License  \\\n",
       "0  2017-08-09T11:32:25Z  gsdenys  GNU Lesser General Public License v2.1   \n",
       "1  2019-09-19T11:17:25Z  gsdenys  GNU Lesser General Public License v3.0   \n",
       "2  2020-09-27T09:41:13Z  gsdenys                      Apache License 2.0   \n",
       "3  2020-02-17T18:23:29Z  gsdenys                      Apache License 2.0   \n",
       "4  2015-03-23T14:09:08Z  gsdenys                                    None   \n",
       "\n",
       "   Includes wiki  Forks count  Issues count  Stars count  Watchers count  \\\n",
       "0           True            0             0            4               4   \n",
       "1          False           32            17           11              11   \n",
       "2           True            7             6            5               5   \n",
       "3           True            0             0            0               0   \n",
       "4           True            0             0            1               1   \n",
       "\n",
       "                                            Repo URL  \\\n",
       "0  https://api.github.com/repos/gsdenys/alf-db-co...   \n",
       "1  https://api.github.com/repos/gsdenys/alfresco-...   \n",
       "2   https://api.github.com/repos/gsdenys/amqp-client   \n",
       "3    https://api.github.com/repos/gsdenys/bpm-engine   \n",
       "4  https://api.github.com/repos/gsdenys/cmis-java...   \n",
       "\n",
       "                                         Commits URL  \\\n",
       "0  https://api.github.com/repos/gsdenys/alf-db-co...   \n",
       "1  https://api.github.com/repos/gsdenys/alfresco-...   \n",
       "2  https://api.github.com/repos/gsdenys/amqp-clie...   \n",
       "3  https://api.github.com/repos/gsdenys/bpm-engin...   \n",
       "4  https://api.github.com/repos/gsdenys/cmis-java...   \n",
       "\n",
       "                                       Languages URL  \n",
       "0  https://api.github.com/repos/gsdenys/alf-db-co...  \n",
       "1  https://api.github.com/repos/gsdenys/alfresco-...  \n",
       "2  https://api.github.com/repos/gsdenys/amqp-clie...  \n",
       "3  https://api.github.com/repos/gsdenys/bpm-engin...  \n",
       "4  https://api.github.com/repos/gsdenys/cmis-java...  "
      ]
     },
     "execution_count": 4,
     "metadata": {},
     "output_type": "execute_result"
    }
   ],
   "source": [
    "repos_df = repository.load(user.getData()).save().get()\n",
    "repos_df.head()"
   ]
  },
  {
   "cell_type": "markdown",
   "metadata": {},
   "source": [
    "### Commit\n",
    "\n",
    "Collect commit data."
   ]
  },
  {
   "cell_type": "code",
   "execution_count": 5,
   "metadata": {},
   "outputs": [],
   "source": [
    "#commits_df = commit.load(repository.get()).save().get()\n",
    "#commits_df.head()"
   ]
  },
  {
   "cell_type": "markdown",
   "metadata": {},
   "source": [
    "### Languages"
   ]
  },
  {
   "cell_type": "code",
   "execution_count": 6,
   "metadata": {},
   "outputs": [],
   "source": [
    "lang_df = languages.load(repository.get()).get()"
   ]
  },
  {
   "cell_type": "code",
   "execution_count": 7,
   "metadata": {},
   "outputs": [
    {
     "data": {
      "text/html": [
       "<div>\n",
       "<style scoped>\n",
       "    .dataframe tbody tr th:only-of-type {\n",
       "        vertical-align: middle;\n",
       "    }\n",
       "\n",
       "    .dataframe tbody tr th {\n",
       "        vertical-align: top;\n",
       "    }\n",
       "\n",
       "    .dataframe thead th {\n",
       "        text-align: right;\n",
       "    }\n",
       "</style>\n",
       "<table border=\"1\" class=\"dataframe\">\n",
       "  <thead>\n",
       "    <tr style=\"text-align: right;\">\n",
       "      <th></th>\n",
       "      <th>Repo Id</th>\n",
       "      <th>Size</th>\n",
       "    </tr>\n",
       "  </thead>\n",
       "  <tbody>\n",
       "    <tr>\n",
       "      <th>count</th>\n",
       "      <td>4.400000e+01</td>\n",
       "      <td>44.000000</td>\n",
       "    </tr>\n",
       "    <tr>\n",
       "      <th>mean</th>\n",
       "      <td>1.802693e+08</td>\n",
       "      <td>29647.000000</td>\n",
       "    </tr>\n",
       "    <tr>\n",
       "      <th>std</th>\n",
       "      <td>1.011453e+08</td>\n",
       "      <td>55185.847189</td>\n",
       "    </tr>\n",
       "    <tr>\n",
       "      <th>min</th>\n",
       "      <td>2.753972e+07</td>\n",
       "      <td>63.000000</td>\n",
       "    </tr>\n",
       "    <tr>\n",
       "      <th>25%</th>\n",
       "      <td>7.728421e+07</td>\n",
       "      <td>846.750000</td>\n",
       "    </tr>\n",
       "    <tr>\n",
       "      <th>50%</th>\n",
       "      <td>1.543203e+08</td>\n",
       "      <td>3904.500000</td>\n",
       "    </tr>\n",
       "    <tr>\n",
       "      <th>75%</th>\n",
       "      <td>2.633140e+08</td>\n",
       "      <td>23736.000000</td>\n",
       "    </tr>\n",
       "    <tr>\n",
       "      <th>max</th>\n",
       "      <td>3.345578e+08</td>\n",
       "      <td>217339.000000</td>\n",
       "    </tr>\n",
       "  </tbody>\n",
       "</table>\n",
       "</div>"
      ],
      "text/plain": [
       "            Repo Id           Size\n",
       "count  4.400000e+01      44.000000\n",
       "mean   1.802693e+08   29647.000000\n",
       "std    1.011453e+08   55185.847189\n",
       "min    2.753972e+07      63.000000\n",
       "25%    7.728421e+07     846.750000\n",
       "50%    1.543203e+08    3904.500000\n",
       "75%    2.633140e+08   23736.000000\n",
       "max    3.345578e+08  217339.000000"
      ]
     },
     "execution_count": 7,
     "metadata": {},
     "output_type": "execute_result"
    }
   ],
   "source": [
    "lang_df.describe()"
   ]
  },
  {
   "cell_type": "code",
   "execution_count": 8,
   "metadata": {},
   "outputs": [
    {
     "data": {
      "text/html": [
       "<div>\n",
       "<style scoped>\n",
       "    .dataframe tbody tr th:only-of-type {\n",
       "        vertical-align: middle;\n",
       "    }\n",
       "\n",
       "    .dataframe tbody tr th {\n",
       "        vertical-align: top;\n",
       "    }\n",
       "\n",
       "    .dataframe thead th {\n",
       "        text-align: right;\n",
       "    }\n",
       "</style>\n",
       "<table border=\"1\" class=\"dataframe\">\n",
       "  <thead>\n",
       "    <tr style=\"text-align: right;\">\n",
       "      <th></th>\n",
       "      <th>Repo Id</th>\n",
       "      <th>Size</th>\n",
       "    </tr>\n",
       "    <tr>\n",
       "      <th>Language</th>\n",
       "      <th></th>\n",
       "      <th></th>\n",
       "    </tr>\n",
       "  </thead>\n",
       "  <tbody>\n",
       "    <tr>\n",
       "      <th>Batchfile</th>\n",
       "      <td>127911983</td>\n",
       "      <td>6685</td>\n",
       "    </tr>\n",
       "    <tr>\n",
       "      <th>C</th>\n",
       "      <td>375870267</td>\n",
       "      <td>14056</td>\n",
       "    </tr>\n",
       "    <tr>\n",
       "      <th>CSS</th>\n",
       "      <td>405142427</td>\n",
       "      <td>90499</td>\n",
       "    </tr>\n",
       "    <tr>\n",
       "      <th>Dockerfile</th>\n",
       "      <td>1205415097</td>\n",
       "      <td>3833</td>\n",
       "    </tr>\n",
       "    <tr>\n",
       "      <th>Go</th>\n",
       "      <td>902580872</td>\n",
       "      <td>15960</td>\n",
       "    </tr>\n",
       "    <tr>\n",
       "      <th>HTML</th>\n",
       "      <td>405142427</td>\n",
       "      <td>34993</td>\n",
       "    </tr>\n",
       "    <tr>\n",
       "      <th>Java</th>\n",
       "      <td>594096709</td>\n",
       "      <td>508810</td>\n",
       "    </tr>\n",
       "    <tr>\n",
       "      <th>JavaScript</th>\n",
       "      <td>472395848</td>\n",
       "      <td>65243</td>\n",
       "    </tr>\n",
       "    <tr>\n",
       "      <th>Jupyter Notebook</th>\n",
       "      <td>329178172</td>\n",
       "      <td>217339</td>\n",
       "    </tr>\n",
       "    <tr>\n",
       "      <th>Lua</th>\n",
       "      <td>1242159638</td>\n",
       "      <td>90069</td>\n",
       "    </tr>\n",
       "    <tr>\n",
       "      <th>Makefile</th>\n",
       "      <td>195415047</td>\n",
       "      <td>264</td>\n",
       "    </tr>\n",
       "    <tr>\n",
       "      <th>Python</th>\n",
       "      <td>746658762</td>\n",
       "      <td>239350</td>\n",
       "    </tr>\n",
       "    <tr>\n",
       "      <th>Shell</th>\n",
       "      <td>653402710</td>\n",
       "      <td>17304</td>\n",
       "    </tr>\n",
       "    <tr>\n",
       "      <th>TypeScript</th>\n",
       "      <td>276481216</td>\n",
       "      <td>63</td>\n",
       "    </tr>\n",
       "  </tbody>\n",
       "</table>\n",
       "</div>"
      ],
      "text/plain": [
       "                     Repo Id    Size\n",
       "Language                            \n",
       "Batchfile          127911983    6685\n",
       "C                  375870267   14056\n",
       "CSS                405142427   90499\n",
       "Dockerfile        1205415097    3833\n",
       "Go                 902580872   15960\n",
       "HTML               405142427   34993\n",
       "Java               594096709  508810\n",
       "JavaScript         472395848   65243\n",
       "Jupyter Notebook   329178172  217339\n",
       "Lua               1242159638   90069\n",
       "Makefile           195415047     264\n",
       "Python             746658762  239350\n",
       "Shell              653402710   17304\n",
       "TypeScript         276481216      63"
      ]
     },
     "execution_count": 8,
     "metadata": {},
     "output_type": "execute_result"
    }
   ],
   "source": [
    "l = lang_df.groupby(\"Language\").sum()\n",
    "\n",
    "l"
   ]
  },
  {
   "cell_type": "code",
   "execution_count": 9,
   "metadata": {},
   "outputs": [
    {
     "name": "stderr",
     "output_type": "stream",
     "text": [
      "/home/gsdenys/.local/lib/python3.6/site-packages/seaborn/_decorators.py:43: FutureWarning: Pass the following variables as keyword args: x, y. From version 0.12, the only valid positional argument will be `data`, and passing other arguments without an explicit keyword will result in an error or misinterpretation.\n",
      "  FutureWarning\n"
     ]
    },
    {
     "data": {
      "text/plain": [
       "<AxesSubplot:xlabel='Language'>"
      ]
     },
     "execution_count": 9,
     "metadata": {},
     "output_type": "execute_result"
    },
    {
     "data": {
      "image/png": "[encoded data removed]",
      "text/plain": [
       "<Figure size 1440x864 with 1 Axes>"
      ]
     },
     "metadata": {},
     "output_type": "display_data"
    }
   ],
   "source": [
    "import matplotlib.pyplot as plt\n",
    "import seaborn as sns\n",
    "%matplotlib inline\n",
    "import seaborn as sns\n",
    "\n",
    "\n",
    "plt.figure(figsize = (20, 12))\n",
    "sns.barplot(l[\"Repo Id\"].index, l[\"Size\"].values)"
   ]
  },
  {
   "cell_type": "code",
   "execution_count": null,
   "metadata": {},
   "outputs": [],
   "source": []
  },
  {
   "cell_type": "code",
   "execution_count": null,
   "metadata": {},
   "outputs": [],
   "source": []
  }
 ],
 "metadata": {
  "kernelspec": {
   "display_name": "Python 3",
   "language": "python",
   "name": "python3"
  },
  "language_info": {
   "codemirror_mode": {
    "name": "ipython",
    "version": 3
   },
   "file_extension": ".py",
   "mimetype": "text/x-python",
   "name": "python",
   "nbconvert_exporter": "python",
   "pygments_lexer": "ipython3",
   "version": "3.6.9"
  }
 },
 "nbformat": 4,
 "nbformat_minor": 4
}

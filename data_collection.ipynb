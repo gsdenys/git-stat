{
 "cells": [
  {
   "cell_type": "markdown",
   "metadata": {},
   "source": [
    "# Github Data Collection"
   ]
  },
  {
   "cell_type": "markdown",
   "metadata": {},
   "source": [
    "Using the [GitHub API](https://docs.github.com/pt/rest), extract the data from repositories, that are _user profile_,  _repositories_,  _commits_, and _languages_. In the end, it'll be saved into a  __.csv__ file.\n",
    "\n",
    "Before running this notebook make sure that the file __config.ini__ file has the correct configuration. More information on how to configure and run this one can be found at [README.md](https://github.com/gsdenys/git-stat/blob/main/README.md) file."
   ]
  },
  {
   "cell_type": "markdown",
   "metadata": {},
   "source": [
    "## System Preparation \n",
    "\n",
    "\n",
    "### Requiremente Installation\n",
    "\n",
    "Import required libraries, it depends on library installation. So, before running this notebook is recommended to run the command below inside this project home directory in a system terminal.\n",
    "\n",
    "```bash\n",
    "pip install -r requirements.txt\n",
    "```\n",
    "\n",
    "once all dependencies installed, the system is ready to run the [github's](http://github.com) data extraction."
   ]
  },
  {
   "cell_type": "markdown",
   "metadata": {},
   "source": [
    "### Import Library\n",
    "\n",
    "To perform efficient data extraction and make this notebook clean, was developed some libraries to interact with [Github API](https://docs.github.com/pt/rest) and generate Pandas data frames, as well as save it in a __.csv__ file. More information about this libraries can be found [here](https://github.com/gsdenys/git-stat/blob/main/github/README.md).\n",
    "\n",
    "So, let's import some custom libraries that will make the job for us."
   ]
  },
  {
   "cell_type": "code",
   "execution_count": null,
   "metadata": {},
   "outputs": [],
   "source": [
    "from github.user import User\n",
    "from github.repository import Repository\n",
    "from github.commit import Commit\n",
    "from github.languages import Languages "
   ]
  },
  {
   "cell_type": "markdown",
   "metadata": {},
   "source": [
    "### Initialization\n",
    "\n",
    "Now, initialize the extractors. These provide a simple way to extract data using just a simple code line."
   ]
  },
  {
   "cell_type": "code",
   "execution_count": null,
   "metadata": {},
   "outputs": [],
   "source": [
    "user = User()\n",
    "repository = Repository()\n",
    "commit = Commit()\n",
    "languages = Languages()"
   ]
  },
  {
   "cell_type": "markdown",
   "metadata": {},
   "source": [
    "## Data Loader\n",
    "\n",
    "Once the extractors initialized, each data frame can be obtained using their own extractor."
   ]
  },
  {
   "cell_type": "markdown",
   "metadata": {},
   "source": [
    "### User\n",
    "\n",
    "Load the __User__ data inside de extractor object, then save it at the configurated path, and store it at _user\\_df_ data frame.\n",
    "\n",
    "One data frame rows slice is shown to help users make sure that it had extracted correctly."
   ]
  },
  {
   "cell_type": "code",
   "execution_count": null,
   "metadata": {},
   "outputs": [],
   "source": [
    "user_df = user.load().save().get()\n",
    "user_df.head()"
   ]
  },
  {
   "cell_type": "markdown",
   "metadata": {},
   "source": [
    "### Repositories\n",
    "\n",
    "Load the __Repositories__ data inside de extractor object, then save it at the configurated path, and store it at _repos\\_df_ data frame.\n",
    "\n",
    "One data frame rows slice is shown to help users make sure that it had extracted correctly."
   ]
  },
  {
   "cell_type": "code",
   "execution_count": null,
   "metadata": {},
   "outputs": [],
   "source": [
    "repos_df = repository.load(user.getData()).save().get()\n",
    "repos_df.head()"
   ]
  },
  {
   "cell_type": "markdown",
   "metadata": {},
   "source": [
    "### Commit\n",
    "\n",
    "Load the __Commit__ data inside de extractor object, then save it at the configurated path, and store it at _commits\\_df_ data frame.\n",
    "\n",
    "One data frame rows slice is shown to help users make sure that it had extracted correctly."
   ]
  },
  {
   "cell_type": "code",
   "execution_count": null,
   "metadata": {},
   "outputs": [],
   "source": [
    "commits_df = commit.load(repository.get()).save().get()\n",
    "commits_df.head()"
   ]
  },
  {
   "cell_type": "markdown",
   "metadata": {},
   "source": [
    "### Languages\n",
    "\n",
    "Load the __Languages__ data inside de extractor object, then save it at the configurated path, and store it at _lang\\_df_ data frame.\n",
    "\n",
    "One data frame rows slice is shown to help users make sure that it had extracted correctly."
   ]
  },
  {
   "cell_type": "code",
   "execution_count": null,
   "metadata": {},
   "outputs": [],
   "source": [
    "lang_df = languages.load(repository.get()).save().get()\n",
    "lang_df.head()"
   ]
  }
 ],
 "metadata": {
  "kernelspec": {
   "display_name": "Python 3",
   "language": "python",
   "name": "python3"
  },
  "language_info": {
   "codemirror_mode": {
    "name": "ipython",
    "version": 3
   },
   "file_extension": ".py",
   "mimetype": "text/x-python",
   "name": "python",
   "nbconvert_exporter": "python",
   "pygments_lexer": "ipython3",
   "version": "3.6.9"
  }
 },
 "nbformat": 4,
 "nbformat_minor": 4
}

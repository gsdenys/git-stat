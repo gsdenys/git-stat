{
 "cells": [
  {
   "cell_type": "markdown",
   "metadata": {},
   "source": [
    "# Github Data Collection"
   ]
  },
  {
   "cell_type": "markdown",
   "metadata": {},
   "source": [
    "Using the [GitHub API](https://docs.github.com/pt/rest), extract the data from repositories, that are _user profile_,  _repositories_,  _commits_, and _languages_. In the end, it'll be saved into a  __.csv__ file.\n",
    "\n",
    "Before running this notebook make sure that the file __config.ini__ file has the correct configuration. More information on how to configure and run this one can be found at [README.md](https://github.com/gsdenys/git-stat/blob/main/README.md) file."
   ]
  },
  {
   "cell_type": "markdown",
   "metadata": {},
   "source": [
    "## System Preparation \n",
    "\n",
    "\n",
    "### Requiremente Installation\n",
    "\n",
    "Import required libraries, it depends on library installation. So, before running this notebook is recommended to run the command below inside this project home directory in a system terminal.\n",
    "\n",
    "```bash\n",
    "pip install -r requirements.txt\n",
    "```\n",
    "\n",
    "once all dependencies installed, the system is ready to run the [github's](http://github.com) data extraction."
   ]
  },
  {
   "cell_type": "markdown",
   "metadata": {},
   "source": [
    "### Import Library\n",
    "\n",
    "To perform efficient data extraction and make this notebook clean, was developed some libraries to interact with [Github API](https://docs.github.com/pt/rest) and generate Pandas data frames, as well as save it in a __.csv__ file. More information about this libraries can be found [here](https://github.com/gsdenys/git-stat/blob/main/github/README.md).\n",
    "\n",
    "So, let's import some custom libraries that will make the job for us."
   ]
  },
  {
   "cell_type": "code",
   "execution_count": 1,
   "metadata": {},
   "outputs": [],
   "source": [
    "from github.config import Config\n",
    "\n",
    "from github.user import User\n",
    "from github.repository import Repository\n",
    "from github.commit import Commit\n",
    "from github.languages import Languages "
   ]
  },
  {
   "cell_type": "markdown",
   "metadata": {},
   "source": [
    "### Initialization\n",
    "\n",
    "Now, initialize the extractors. These provide a simple way to extract data using just a simple code line."
   ]
  },
  {
   "cell_type": "code",
   "execution_count": 2,
   "metadata": {},
   "outputs": [],
   "source": [
    "config = Config()\n",
    "\n",
    "user = User(config)\n",
    "repository = Repository(config)\n",
    "commit = Commit(config)\n",
    "languages = Languages(config)"
   ]
  },
  {
   "cell_type": "markdown",
   "metadata": {},
   "source": [
    "## Data Loader\n",
    "\n",
    "Once the extractors initialized, each data frame can be obtained using their own extractor."
   ]
  },
  {
   "cell_type": "markdown",
   "metadata": {},
   "source": [
    "### User\n",
    "\n",
    "Load the __User__ data inside de extractor object, then save it at the configurated path, and store it at _user\\_df_ data frame.\n",
    "\n",
    "One data frame rows slice is shown to help users make sure that it had extracted correctly."
   ]
  },
  {
   "cell_type": "code",
   "execution_count": 3,
   "metadata": {},
   "outputs": [
    {
     "name": "stdout",
     "output_type": "stream",
     "text": [
      "Dataframe saved at: /tmp/user_info_gsdenys.csv\n"
     ]
    },
    {
     "data": {
      "text/html": [
       "<div>\n",
       "<style scoped>\n",
       "    .dataframe tbody tr th:only-of-type {\n",
       "        vertical-align: middle;\n",
       "    }\n",
       "\n",
       "    .dataframe tbody tr th {\n",
       "        vertical-align: top;\n",
       "    }\n",
       "\n",
       "    .dataframe thead th {\n",
       "        text-align: right;\n",
       "    }\n",
       "</style>\n",
       "<table border=\"1\" class=\"dataframe\">\n",
       "  <thead>\n",
       "    <tr style=\"text-align: right;\">\n",
       "      <th></th>\n",
       "      <th>User</th>\n",
       "      <th>Name</th>\n",
       "      <th>Email</th>\n",
       "      <th>Location</th>\n",
       "      <th>Repositories</th>\n",
       "      <th>Gists</th>\n",
       "      <th>Bio</th>\n",
       "    </tr>\n",
       "  </thead>\n",
       "  <tbody>\n",
       "    <tr>\n",
       "      <th>0</th>\n",
       "      <td>gsdenys</td>\n",
       "      <td>Denys G. santos</td>\n",
       "      <td>gsdenys@gmail.com</td>\n",
       "      <td>São Paulo, SP, Brazil</td>\n",
       "      <td>36</td>\n",
       "      <td>1</td>\n",
       "      <td>Father, husband, and senior IT professional.</td>\n",
       "    </tr>\n",
       "  </tbody>\n",
       "</table>\n",
       "</div>"
      ],
      "text/plain": [
       "      User             Name              Email               Location  \\\n",
       "0  gsdenys  Denys G. santos  gsdenys@gmail.com  São Paulo, SP, Brazil   \n",
       "\n",
       "   Repositories  Gists                                           Bio  \n",
       "0            36      1  Father, husband, and senior IT professional.  "
      ]
     },
     "execution_count": 3,
     "metadata": {},
     "output_type": "execute_result"
    }
   ],
   "source": [
    "user_df = user.load().save().get()\n",
    "user_df.head()"
   ]
  },
  {
   "cell_type": "markdown",
   "metadata": {},
   "source": [
    "### Repositories\n",
    "\n",
    "Load the __Repositories__ data inside de extractor object, then save it at the configurated path, and store it at _repos\\_df_ data frame.\n",
    "\n",
    "One data frame rows slice is shown to help users make sure that it had extracted correctly."
   ]
  },
  {
   "cell_type": "code",
   "execution_count": 4,
   "metadata": {},
   "outputs": [
    {
     "name": "stdout",
     "output_type": "stream",
     "text": [
      "Dataframe saved at: /tmp/repos_info_gsdenys.csv\n"
     ]
    },
    {
     "data": {
      "text/html": [
       "<div>\n",
       "<style scoped>\n",
       "    .dataframe tbody tr th:only-of-type {\n",
       "        vertical-align: middle;\n",
       "    }\n",
       "\n",
       "    .dataframe tbody tr th {\n",
       "        vertical-align: top;\n",
       "    }\n",
       "\n",
       "    .dataframe thead th {\n",
       "        text-align: right;\n",
       "    }\n",
       "</style>\n",
       "<table border=\"1\" class=\"dataframe\">\n",
       "  <thead>\n",
       "    <tr style=\"text-align: right;\">\n",
       "      <th></th>\n",
       "      <th>Id</th>\n",
       "      <th>Name</th>\n",
       "      <th>Description</th>\n",
       "      <th>Created on</th>\n",
       "      <th>Updated on</th>\n",
       "      <th>Owner</th>\n",
       "      <th>License</th>\n",
       "      <th>Includes wiki</th>\n",
       "      <th>Forks count</th>\n",
       "      <th>Issues count</th>\n",
       "      <th>Stars count</th>\n",
       "      <th>Watchers count</th>\n",
       "      <th>Repo URL</th>\n",
       "      <th>Commits URL</th>\n",
       "      <th>Languages URL</th>\n",
       "    </tr>\n",
       "  </thead>\n",
       "  <tbody>\n",
       "    <tr>\n",
       "      <th>0</th>\n",
       "      <td>50627775</td>\n",
       "      <td>alf-db-constraint</td>\n",
       "      <td>Database constraint to Alfresco Document Type</td>\n",
       "      <td>2016-01-29T01:27:23Z</td>\n",
       "      <td>2017-08-09T11:32:25Z</td>\n",
       "      <td>gsdenys</td>\n",
       "      <td>GNU Lesser General Public License v2.1</td>\n",
       "      <td>True</td>\n",
       "      <td>0</td>\n",
       "      <td>0</td>\n",
       "      <td>4</td>\n",
       "      <td>4</td>\n",
       "      <td>https://api.github.com/repos/gsdenys/alf-db-co...</td>\n",
       "      <td>https://api.github.com/repos/gsdenys/alf-db-co...</td>\n",
       "      <td>https://api.github.com/repos/gsdenys/alf-db-co...</td>\n",
       "    </tr>\n",
       "    <tr>\n",
       "      <th>1</th>\n",
       "      <td>39864719</td>\n",
       "      <td>alfresco-bulk-export</td>\n",
       "      <td>Automatically exported from code.google.com/p/...</td>\n",
       "      <td>2015-07-29T00:36:35Z</td>\n",
       "      <td>2019-09-19T11:17:25Z</td>\n",
       "      <td>gsdenys</td>\n",
       "      <td>GNU Lesser General Public License v3.0</td>\n",
       "      <td>False</td>\n",
       "      <td>33</td>\n",
       "      <td>17</td>\n",
       "      <td>11</td>\n",
       "      <td>11</td>\n",
       "      <td>https://api.github.com/repos/gsdenys/alfresco-...</td>\n",
       "      <td>https://api.github.com/repos/gsdenys/alfresco-...</td>\n",
       "      <td>https://api.github.com/repos/gsdenys/alfresco-...</td>\n",
       "    </tr>\n",
       "    <tr>\n",
       "      <th>2</th>\n",
       "      <td>197203698</td>\n",
       "      <td>amqp-client</td>\n",
       "      <td>Lua Client for AMQP</td>\n",
       "      <td>2019-07-16T13:52:44Z</td>\n",
       "      <td>2020-09-27T09:41:13Z</td>\n",
       "      <td>gsdenys</td>\n",
       "      <td>Apache License 2.0</td>\n",
       "      <td>True</td>\n",
       "      <td>7</td>\n",
       "      <td>6</td>\n",
       "      <td>5</td>\n",
       "      <td>5</td>\n",
       "      <td>https://api.github.com/repos/gsdenys/amqp-client</td>\n",
       "      <td>https://api.github.com/repos/gsdenys/amqp-clie...</td>\n",
       "      <td>https://api.github.com/repos/gsdenys/amqp-clie...</td>\n",
       "    </tr>\n",
       "    <tr>\n",
       "      <th>3</th>\n",
       "      <td>241175035</td>\n",
       "      <td>bpm-engine</td>\n",
       "      <td>Event drive engine for BPMN</td>\n",
       "      <td>2020-02-17T18:07:22Z</td>\n",
       "      <td>2020-02-17T18:23:29Z</td>\n",
       "      <td>gsdenys</td>\n",
       "      <td>Apache License 2.0</td>\n",
       "      <td>True</td>\n",
       "      <td>0</td>\n",
       "      <td>0</td>\n",
       "      <td>0</td>\n",
       "      <td>0</td>\n",
       "      <td>https://api.github.com/repos/gsdenys/bpm-engine</td>\n",
       "      <td>https://api.github.com/repos/gsdenys/bpm-engin...</td>\n",
       "      <td>https://api.github.com/repos/gsdenys/bpm-engin...</td>\n",
       "    </tr>\n",
       "    <tr>\n",
       "      <th>4</th>\n",
       "      <td>27539722</td>\n",
       "      <td>cmis-java-sample</td>\n",
       "      <td>Breve exemplo de ações usando OpenCMIS</td>\n",
       "      <td>2014-12-04T12:35:44Z</td>\n",
       "      <td>2015-03-23T14:09:08Z</td>\n",
       "      <td>gsdenys</td>\n",
       "      <td>None</td>\n",
       "      <td>True</td>\n",
       "      <td>0</td>\n",
       "      <td>0</td>\n",
       "      <td>1</td>\n",
       "      <td>1</td>\n",
       "      <td>https://api.github.com/repos/gsdenys/cmis-java...</td>\n",
       "      <td>https://api.github.com/repos/gsdenys/cmis-java...</td>\n",
       "      <td>https://api.github.com/repos/gsdenys/cmis-java...</td>\n",
       "    </tr>\n",
       "  </tbody>\n",
       "</table>\n",
       "</div>"
      ],
      "text/plain": [
       "          Id                  Name  \\\n",
       "0   50627775     alf-db-constraint   \n",
       "1   39864719  alfresco-bulk-export   \n",
       "2  197203698           amqp-client   \n",
       "3  241175035            bpm-engine   \n",
       "4   27539722      cmis-java-sample   \n",
       "\n",
       "                                         Description            Created on  \\\n",
       "0      Database constraint to Alfresco Document Type  2016-01-29T01:27:23Z   \n",
       "1  Automatically exported from code.google.com/p/...  2015-07-29T00:36:35Z   \n",
       "2                                Lua Client for AMQP  2019-07-16T13:52:44Z   \n",
       "3                        Event drive engine for BPMN  2020-02-17T18:07:22Z   \n",
       "4             Breve exemplo de ações usando OpenCMIS  2014-12-04T12:35:44Z   \n",
       "\n",
       "             Updated on    Owner                                 License  \\\n",
       "0  2017-08-09T11:32:25Z  gsdenys  GNU Lesser General Public License v2.1   \n",
       "1  2019-09-19T11:17:25Z  gsdenys  GNU Lesser General Public License v3.0   \n",
       "2  2020-09-27T09:41:13Z  gsdenys                      Apache License 2.0   \n",
       "3  2020-02-17T18:23:29Z  gsdenys                      Apache License 2.0   \n",
       "4  2015-03-23T14:09:08Z  gsdenys                                    None   \n",
       "\n",
       "   Includes wiki  Forks count  Issues count  Stars count  Watchers count  \\\n",
       "0           True            0             0            4               4   \n",
       "1          False           33            17           11              11   \n",
       "2           True            7             6            5               5   \n",
       "3           True            0             0            0               0   \n",
       "4           True            0             0            1               1   \n",
       "\n",
       "                                            Repo URL  \\\n",
       "0  https://api.github.com/repos/gsdenys/alf-db-co...   \n",
       "1  https://api.github.com/repos/gsdenys/alfresco-...   \n",
       "2   https://api.github.com/repos/gsdenys/amqp-client   \n",
       "3    https://api.github.com/repos/gsdenys/bpm-engine   \n",
       "4  https://api.github.com/repos/gsdenys/cmis-java...   \n",
       "\n",
       "                                         Commits URL  \\\n",
       "0  https://api.github.com/repos/gsdenys/alf-db-co...   \n",
       "1  https://api.github.com/repos/gsdenys/alfresco-...   \n",
       "2  https://api.github.com/repos/gsdenys/amqp-clie...   \n",
       "3  https://api.github.com/repos/gsdenys/bpm-engin...   \n",
       "4  https://api.github.com/repos/gsdenys/cmis-java...   \n",
       "\n",
       "                                       Languages URL  \n",
       "0  https://api.github.com/repos/gsdenys/alf-db-co...  \n",
       "1  https://api.github.com/repos/gsdenys/alfresco-...  \n",
       "2  https://api.github.com/repos/gsdenys/amqp-clie...  \n",
       "3  https://api.github.com/repos/gsdenys/bpm-engin...  \n",
       "4  https://api.github.com/repos/gsdenys/cmis-java...  "
      ]
     },
     "execution_count": 4,
     "metadata": {},
     "output_type": "execute_result"
    }
   ],
   "source": [
    "repos_df = repository.load(user.getData()).save().get()\n",
    "repos_df.head()"
   ]
  },
  {
   "cell_type": "markdown",
   "metadata": {},
   "source": [
    "### Commit\n",
    "\n",
    "Load the __Commit__ data inside de extractor object, then save it at the configurated path, and store it at _commits\\_df_ data frame.\n",
    "\n",
    "One data frame rows slice is shown to help users make sure that it had extracted correctly."
   ]
  },
  {
   "cell_type": "code",
   "execution_count": 5,
   "metadata": {},
   "outputs": [
    {
     "name": "stdout",
     "output_type": "stream",
     "text": [
      "Dataframe saved at: /tmp/commits_info_gsdenys.csv\n"
     ]
    },
    {
     "data": {
      "text/html": [
       "<div>\n",
       "<style scoped>\n",
       "    .dataframe tbody tr th:only-of-type {\n",
       "        vertical-align: middle;\n",
       "    }\n",
       "\n",
       "    .dataframe tbody tr th {\n",
       "        vertical-align: top;\n",
       "    }\n",
       "\n",
       "    .dataframe thead th {\n",
       "        text-align: right;\n",
       "    }\n",
       "</style>\n",
       "<table border=\"1\" class=\"dataframe\">\n",
       "  <thead>\n",
       "    <tr style=\"text-align: right;\">\n",
       "      <th></th>\n",
       "      <th>Repo Id</th>\n",
       "      <th>Commit Id</th>\n",
       "      <th>Date</th>\n",
       "      <th>Message</th>\n",
       "      <th>Repository</th>\n",
       "    </tr>\n",
       "  </thead>\n",
       "  <tbody>\n",
       "    <tr>\n",
       "      <th>0</th>\n",
       "      <td>50627775</td>\n",
       "      <td>09efd76dac57118f5fc8fbdfdbd4e419415ddfed</td>\n",
       "      <td>2016-03-09T13:10:27Z</td>\n",
       "      <td>Update README.md</td>\n",
       "      <td>alf-db-constraint</td>\n",
       "    </tr>\n",
       "    <tr>\n",
       "      <th>1</th>\n",
       "      <td>50627775</td>\n",
       "      <td>72f303f68f7f880081ff06f66571ac51c2e2aa0a</td>\n",
       "      <td>2016-03-09T13:09:16Z</td>\n",
       "      <td>Update README.md</td>\n",
       "      <td>alf-db-constraint</td>\n",
       "    </tr>\n",
       "    <tr>\n",
       "      <th>2</th>\n",
       "      <td>50627775</td>\n",
       "      <td>dee2123d9074181662265aee0574a873db0a2d60</td>\n",
       "      <td>2016-03-08T23:58:41Z</td>\n",
       "      <td>create a basic program</td>\n",
       "      <td>alf-db-constraint</td>\n",
       "    </tr>\n",
       "    <tr>\n",
       "      <th>3</th>\n",
       "      <td>50627775</td>\n",
       "      <td>9c5dea4bad1f37a17ea70e172db77600c76b3c76</td>\n",
       "      <td>2016-03-08T23:38:11Z</td>\n",
       "      <td>initial commit</td>\n",
       "      <td>alf-db-constraint</td>\n",
       "    </tr>\n",
       "    <tr>\n",
       "      <th>4</th>\n",
       "      <td>50627775</td>\n",
       "      <td>1d41bf7b572d75cbd6102504b14a8bd88528d814</td>\n",
       "      <td>2016-01-29T01:27:23Z</td>\n",
       "      <td>Initial commit</td>\n",
       "      <td>alf-db-constraint</td>\n",
       "    </tr>\n",
       "  </tbody>\n",
       "</table>\n",
       "</div>"
      ],
      "text/plain": [
       "    Repo Id                                 Commit Id                  Date  \\\n",
       "0  50627775  09efd76dac57118f5fc8fbdfdbd4e419415ddfed  2016-03-09T13:10:27Z   \n",
       "1  50627775  72f303f68f7f880081ff06f66571ac51c2e2aa0a  2016-03-09T13:09:16Z   \n",
       "2  50627775  dee2123d9074181662265aee0574a873db0a2d60  2016-03-08T23:58:41Z   \n",
       "3  50627775  9c5dea4bad1f37a17ea70e172db77600c76b3c76  2016-03-08T23:38:11Z   \n",
       "4  50627775  1d41bf7b572d75cbd6102504b14a8bd88528d814  2016-01-29T01:27:23Z   \n",
       "\n",
       "                  Message         Repository  \n",
       "0        Update README.md  alf-db-constraint  \n",
       "1        Update README.md  alf-db-constraint  \n",
       "2  create a basic program  alf-db-constraint  \n",
       "3          initial commit  alf-db-constraint  \n",
       "4          Initial commit  alf-db-constraint  "
      ]
     },
     "execution_count": 5,
     "metadata": {},
     "output_type": "execute_result"
    }
   ],
   "source": [
    "commits_df = commit.load(repository.get()).save().get()\n",
    "commits_df.head()"
   ]
  },
  {
   "cell_type": "markdown",
   "metadata": {},
   "source": [
    "### Languages\n",
    "\n",
    "Load the __Languages__ data inside de extractor object, then save it at the configurated path, and store it at _lang\\_df_ data frame.\n",
    "\n",
    "One data frame rows slice is shown to help users make sure that it had extracted correctly."
   ]
  },
  {
   "cell_type": "code",
   "execution_count": 6,
   "metadata": {},
   "outputs": [
    {
     "name": "stdout",
     "output_type": "stream",
     "text": [
      "Dataframe saved at: /tmp/language_info_gsdenys.csv\n"
     ]
    },
    {
     "data": {
      "text/html": [
       "<div>\n",
       "<style scoped>\n",
       "    .dataframe tbody tr th:only-of-type {\n",
       "        vertical-align: middle;\n",
       "    }\n",
       "\n",
       "    .dataframe tbody tr th {\n",
       "        vertical-align: top;\n",
       "    }\n",
       "\n",
       "    .dataframe thead th {\n",
       "        text-align: right;\n",
       "    }\n",
       "</style>\n",
       "<table border=\"1\" class=\"dataframe\">\n",
       "  <thead>\n",
       "    <tr style=\"text-align: right;\">\n",
       "      <th></th>\n",
       "      <th>Repo Id</th>\n",
       "      <th>Language</th>\n",
       "      <th>Size</th>\n",
       "      <th>Repo Name</th>\n",
       "    </tr>\n",
       "  </thead>\n",
       "  <tbody>\n",
       "    <tr>\n",
       "      <th>0</th>\n",
       "      <td>50627775</td>\n",
       "      <td>Java</td>\n",
       "      <td>16765</td>\n",
       "      <td>alf-db-constraint</td>\n",
       "    </tr>\n",
       "    <tr>\n",
       "      <th>1</th>\n",
       "      <td>50627775</td>\n",
       "      <td>Batchfile</td>\n",
       "      <td>846</td>\n",
       "      <td>alf-db-constraint</td>\n",
       "    </tr>\n",
       "    <tr>\n",
       "      <th>2</th>\n",
       "      <td>50627775</td>\n",
       "      <td>Shell</td>\n",
       "      <td>457</td>\n",
       "      <td>alf-db-constraint</td>\n",
       "    </tr>\n",
       "    <tr>\n",
       "      <th>3</th>\n",
       "      <td>39864719</td>\n",
       "      <td>Java</td>\n",
       "      <td>62654</td>\n",
       "      <td>alfresco-bulk-export</td>\n",
       "    </tr>\n",
       "    <tr>\n",
       "      <th>4</th>\n",
       "      <td>197203698</td>\n",
       "      <td>Lua</td>\n",
       "      <td>81554</td>\n",
       "      <td>amqp-client</td>\n",
       "    </tr>\n",
       "  </tbody>\n",
       "</table>\n",
       "</div>"
      ],
      "text/plain": [
       "     Repo Id   Language   Size             Repo Name\n",
       "0   50627775       Java  16765     alf-db-constraint\n",
       "1   50627775  Batchfile    846     alf-db-constraint\n",
       "2   50627775      Shell    457     alf-db-constraint\n",
       "3   39864719       Java  62654  alfresco-bulk-export\n",
       "4  197203698        Lua  81554           amqp-client"
      ]
     },
     "execution_count": 6,
     "metadata": {},
     "output_type": "execute_result"
    }
   ],
   "source": [
    "lang_df = languages.load(repository.get()).save().get()\n",
    "lang_df.head()"
   ]
  }
 ],
 "metadata": {
  "kernelspec": {
   "display_name": "Python 3",
   "language": "python",
   "name": "python3"
  },
  "language_info": {
   "codemirror_mode": {
    "name": "ipython",
    "version": 3
   },
   "file_extension": ".py",
   "mimetype": "text/x-python",
   "name": "python",
   "nbconvert_exporter": "python",
   "pygments_lexer": "ipython3",
   "version": "3.7.3"
  }
 },
 "nbformat": 4,
 "nbformat_minor": 4
}

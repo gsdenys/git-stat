{
 "cells": [
  {
   "cell_type": "markdown",
   "metadata": {},
   "source": [
    "# Github Data Analisys"
   ]
  },
  {
   "cell_type": "markdown",
   "metadata": {},
   "source": [
    "Using the __GitHub API__, extract, from public repositories, information from user profile such as repositories and commits and save it into __.csv__.\n",
    "\n",
    "Before start to fetching data you need to set 2 very important constants, the __user__ that'll be analised, and the github token;"
   ]
  },
  {
   "cell_type": "markdown",
   "metadata": {},
   "source": [
    "## System Preparation \n",
    "\n",
    "\n",
    "### Import Library\n",
    "\n",
    "Import required libraries, it depends of libraries installation. So, before run this notebook is recomended to run the command below inside this project home directory in a system terminal.\n",
    "\n",
    "```bash\n",
    "pip install -r requirements.txt\n",
    "```\n",
    "\n",
    "once installed all dependencies you'll be ready to run this notebook. "
   ]
  },
  {
   "cell_type": "code",
   "execution_count": 1,
   "metadata": {},
   "outputs": [],
   "source": [
    "from github.api import Config\n",
    "from github.user import User\n",
    "from github.repository import Repository\n",
    "from github.commit import Commit"
   ]
  },
  {
   "cell_type": "markdown",
   "metadata": {},
   "source": [
    "### Load Configuration\n",
    "\n",
    "In this project there is a file named __config.ini__. At this file you'll see all configuration need to run this notebok. _Make sure that is whit correct configuration before run it_.\n",
    "\n",
    "This file contains the configurarion abou user that will be analized, the local where the file containing the extracted data will be stored and a __github token__ to use the __git API__."
   ]
  },
  {
   "cell_type": "code",
   "execution_count": 2,
   "metadata": {},
   "outputs": [],
   "source": [
    "conf = Config()\n",
    "\n",
    "# git_user = conf.getUser()\n",
    "# git_token = conf.getToken()\n",
    "base_path = conf.getPath()"
   ]
  },
  {
   "cell_type": "markdown",
   "metadata": {},
   "source": [
    "### Data Extractor Initialization\n",
    "\n",
    "Now you're ready to start extract data from __Github API__. To do that, initialize the extractors for __user__, __repository__ and __commit__. "
   ]
  },
  {
   "cell_type": "code",
   "execution_count": 3,
   "metadata": {},
   "outputs": [],
   "source": [
    "user = User()\n",
    "repository = Repository()\n",
    "commit = Commit()"
   ]
  },
  {
   "cell_type": "markdown",
   "metadata": {},
   "source": [
    "## Data Loader\n",
    "\n",
    "Using the __GitHub API__, extract, from public repositories, information from user profile such as repositories and commits and save it into __.csv__."
   ]
  },
  {
   "cell_type": "markdown",
   "metadata": {},
   "source": [
    "### User Information\n",
    "\n",
    "Load and print basic git user data "
   ]
  },
  {
   "cell_type": "code",
   "execution_count": 4,
   "metadata": {},
   "outputs": [
    {
     "name": "stdout",
     "output_type": "stream",
     "text": [
      "Information about user gsdenys:\n",
      "\tName: Denys G. santos\n",
      "\tEmail: gsdenys@gmail.com\n",
      "\tLocation: São Paulo, SP, Brazil\n",
      "\tPublic repos: 31\n",
      "\tPublic gists: 1\n",
      "\tAbout: Father, husband, and senior IT professional.\n"
     ]
    }
   ],
   "source": [
    "user.load().show()"
   ]
  },
  {
   "cell_type": "markdown",
   "metadata": {},
   "source": [
    "### Repositories\n",
    "\n",
    "Collect repository data."
   ]
  },
  {
   "cell_type": "code",
   "execution_count": 5,
   "metadata": {},
   "outputs": [],
   "source": [
    "repos_df = repository.load(user.get()).save().get()"
   ]
  },
  {
   "cell_type": "markdown",
   "metadata": {},
   "source": [
    "### Commit\n",
    "\n",
    "Collect commit data."
   ]
  },
  {
   "cell_type": "code",
   "execution_count": 6,
   "metadata": {},
   "outputs": [],
   "source": [
    "commits_df = commit.load(repository.get()).save().get()"
   ]
  }
 ],
 "metadata": {
  "kernelspec": {
   "display_name": "Python 3",
   "language": "python",
   "name": "python3"
  },
  "language_info": {
   "codemirror_mode": {
    "name": "ipython",
    "version": 3
   },
   "file_extension": ".py",
   "mimetype": "text/x-python",
   "name": "python",
   "nbconvert_exporter": "python",
   "pygments_lexer": "ipython3",
   "version": "3.6.9"
  }
 },
 "nbformat": 4,
 "nbformat_minor": 4
}

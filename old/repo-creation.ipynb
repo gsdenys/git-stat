{
 "cells": [
  {
   "cell_type": "code",
   "execution_count": null,
   "metadata": {},
   "outputs": [],
   "source": [
    "import requests\n",
    "import pandas as pd\n",
    "import matplotlib.pyplot as plt\n",
    "\n",
    "import repository as repo"
   ]
  },
  {
   "cell_type": "code",
   "execution_count": null,
   "metadata": {},
   "outputs": [],
   "source": [
    "base_repo = \"https://api.github.com/users/{user}/repos\" "
   ]
  },
  {
   "cell_type": "code",
   "execution_count": null,
   "metadata": {},
   "outputs": [],
   "source": [
    "columns = [\n",
    " 'name',\n",
    " 'fork',\n",
    " 'created_at',\n",
    " 'updated_at',\n",
    " 'pushed_at',\n",
    " 'size',\n",
    " 'stargazers_count',\n",
    " 'watchers_count',\n",
    " 'language',\n",
    " 'has_issues',\n",
    " 'has_projects',\n",
    " 'has_downloads',\n",
    " 'has_wiki',\n",
    " 'has_pages',\n",
    " 'forks_count',\n",
    " 'archived',\n",
    " 'disabled',\n",
    " 'open_issues_count',\n",
    " 'forks',\n",
    " 'open_issues',\n",
    " 'watchers',\n",
    " 'default_branch'\n",
    "]"
   ]
  },
  {
   "cell_type": "code",
   "execution_count": null,
   "metadata": {},
   "outputs": [],
   "source": [
    "user = \"Oraci\""
   ]
  },
  {
   "cell_type": "markdown",
   "metadata": {},
   "source": [
    "# Repositories"
   ]
  },
  {
   "cell_type": "code",
   "execution_count": null,
   "metadata": {},
   "outputs": [],
   "source": [
    "df = repo.getRepos(user)\n",
    "df"
   ]
  },
  {
   "cell_type": "markdown",
   "metadata": {},
   "source": [
    "## Languages"
   ]
  },
  {
   "cell_type": "code",
   "execution_count": null,
   "metadata": {},
   "outputs": [],
   "source": [
    "df1 = repo.creationFromYear(df)"
   ]
  },
  {
   "cell_type": "code",
   "execution_count": null,
   "metadata": {},
   "outputs": [],
   "source": [
    "df1.plot(kind=\"area\", figsize=(20,10), title=\"Criação de Repositórios por Linguagem e por Ano\")"
   ]
  },
  {
   "cell_type": "markdown",
   "metadata": {},
   "source": [
    "## Quantidade de Código"
   ]
  },
  {
   "cell_type": "code",
   "execution_count": null,
   "metadata": {},
   "outputs": [],
   "source": [
    "languages = df[[\"language\", \"year\", \"size\"]]\n",
    "lg1 = languages.groupby([\"language\", \"year\"])[\"size\"].sum().reset_index(name=\"size\")\n",
    "\n",
    "df2 = lg1.pivot(index='year', columns='language', values='size')\n",
    "df2 = df2.fillna(0)\n",
    "\n",
    "df2"
   ]
  },
  {
   "cell_type": "code",
   "execution_count": null,
   "metadata": {},
   "outputs": [],
   "source": [
    "df2.plot(kind=\"area\", figsize=(20,10), title=\"Criação de Código por Linguagem por Ano\")"
   ]
  },
  {
   "cell_type": "code",
   "execution_count": null,
   "metadata": {},
   "outputs": [],
   "source": []
  }
 ],
 "metadata": {
  "kernelspec": {
   "display_name": "Python 3",
   "language": "python",
   "name": "python3"
  },
  "language_info": {
   "codemirror_mode": {
    "name": "ipython",
    "version": 3
   },
   "file_extension": ".py",
   "mimetype": "text/x-python",
   "name": "python",
   "nbconvert_exporter": "python",
   "pygments_lexer": "ipython3",
   "version": "3.8.6"
  }
 },
 "nbformat": 4,
 "nbformat_minor": 4
}
